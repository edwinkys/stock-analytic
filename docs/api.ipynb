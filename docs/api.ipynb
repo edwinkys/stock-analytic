{
 "metadata": {
  "language_info": {
   "codemirror_mode": {
    "name": "ipython",
    "version": 3
   },
   "file_extension": ".py",
   "mimetype": "text/x-python",
   "name": "python",
   "nbconvert_exporter": "python",
   "pygments_lexer": "ipython3",
   "version": "3.9.0-final"
  },
  "orig_nbformat": 2,
  "kernelspec": {
   "name": "python3",
   "display_name": "Python 3",
   "language": "python"
  }
 },
 "nbformat": 4,
 "nbformat_minor": 2,
 "cells": [
  {
   "source": [
    "# Interial API\n",
    "This notebook is to develop functions and classes for Interial back end API."
   ],
   "cell_type": "markdown",
   "metadata": {}
  },
  {
   "cell_type": "code",
   "execution_count": 18,
   "metadata": {},
   "outputs": [],
   "source": [
    "# Import libraries\n",
    "import yfinance as yf\n",
    "import pandas as pd\n",
    "\n",
    "from sklearn.linear_model import LinearRegression"
   ]
  },
  {
   "cell_type": "code",
   "execution_count": 101,
   "metadata": {},
   "outputs": [],
   "source": [
    "class Stock():\n",
    "    '''\n",
    "\n",
    "    This class is to gather information and data about a certain stock.\n",
    "\n",
    "    methods:\n",
    "    - get_info\n",
    "    - get_holders\n",
    "    - get_calendar\n",
    "    - get_data\n",
    "\n",
    "    '''\n",
    "\n",
    "    def __init__(self, symbol):\n",
    "        self.symbol = symbol\n",
    "        self.stock = yf.Ticker(symbol)\n",
    "\n",
    "    def __create_trendline(self, x, y):\n",
    "        '''\n",
    "\n",
    "        Create trendline from the data.\n",
    "\n",
    "        @param x: Pandas series of datetime like pd.to_datetime(stock_data['Date']).values.astype(float).reshape(-1, 1).\n",
    "        @param y: Pandas dataframe of price.\n",
    "\n",
    "        return: Numpy array of predicted y based on x.\n",
    "\n",
    "        '''\n",
    "\n",
    "        reg = LinearRegression()\n",
    "\n",
    "        model = reg.fit(x, y)\n",
    "\n",
    "        prediction = model.predict(x)\n",
    "\n",
    "        return prediction\n",
    "\n",
    "    def __calculate_average(self, df, column):\n",
    "        '''\n",
    "\n",
    "        Calculate the average overall value of a stock data or column, excluding Date.\n",
    "\n",
    "        @param df: Pandas dataframe of the data.\n",
    "        @param column: String of the column name.\n",
    "\n",
    "        return: Average value.\n",
    "\n",
    "        '''\n",
    "\n",
    "        return df[column].mean()\n",
    "    \n",
    "    def __get_stock_data(self, period='3mo', interval='1d', date_range=[]):\n",
    "        '''\n",
    "\n",
    "        Get the stock price based on date.\n",
    "\n",
    "        @param period: The period of the stock data (1d, 5d, 1mo, 3mo, 6mo, 1y, 2y, 5y, 10y, ytd, max).\n",
    "        @param interval: The interval per data (1m, 2m, 5m, 15m, 30m, 60m, 90m, 1h, 1d, 5d, 1wk, 1mo, 3mo).\n",
    "        @param date_range: Array of range of string date like ['2020-01-01', '2020-12-31'].\n",
    "\n",
    "        return: Dataframe of stock data\n",
    "\n",
    "        '''\n",
    "\n",
    "        if date_range:\n",
    "            stock_data = yf.download(\n",
    "                tickers=self.symbol,\n",
    "                start=date_range[0],\n",
    "                end=date_range[1]\n",
    "            )\n",
    "        else:\n",
    "            stock_data = yf.download(\n",
    "                tickers=self.symbol,\n",
    "                period=period,\n",
    "                interval=interval\n",
    "            )\n",
    "\n",
    "        return stock_data\n",
    "\n",
    "    def get_info(self, datapoints=None):\n",
    "        '''\n",
    "\n",
    "        Get summary of the stock.\n",
    "\n",
    "        @param datapoints: Array of datapoints to be returned.\n",
    "\n",
    "        return: Dictionary containing the summary.\n",
    "\n",
    "        '''\n",
    "\n",
    "        if datapoints:\n",
    "            return {key: value for key, value in self.stock.info.items() if key in datapoints}\n",
    "        else:\n",
    "            return self.stock.info\n",
    "\n",
    "    def get_holders(self, n_result=None):\n",
    "        '''\n",
    "\n",
    "        Get the shareholders of the company.\n",
    "\n",
    "        @param n_result: int to return some of the shareholders, max: 10.\n",
    "\n",
    "        return: Dictionary of shareholders.\n",
    "\n",
    "        '''\n",
    "\n",
    "        shareholders = self.stock.institutional_holders\n",
    "\n",
    "        shareholders = shareholders.to_dict('index')\n",
    "\n",
    "        if n_result:\n",
    "            return dict(list(shareholders.items())[:n_result])\n",
    "        else:\n",
    "            return shareholders\n",
    "\n",
    "    def get_calendar(self):\n",
    "        '''\n",
    "\n",
    "        Get the update from the latest schedule.\n",
    "\n",
    "        return: Dictionary of the update.\n",
    "\n",
    "        '''\n",
    "\n",
    "        update = self.stock.calendar.to_dict().get('Value')\n",
    "\n",
    "        return update\n",
    "\n",
    "    def get_data(self, period='3mo', interval='1d', date_range=None, trendline=None, average=None):\n",
    "        '''\n",
    "\n",
    "        Get the share price of the company.\n",
    "\n",
    "        @param period: The period of the stock data (1d, 5d, 1mo, 3mo, 6mo, 1y, 2y, 5y, 10y, ytd, max).\n",
    "        @param interval: The interval per data (1m, 2m, 5m, 15m, 30m, 60m, 90m, 1h, 1d, 5d, 1wk, 1mo, 3mo).\n",
    "        @param date_range: Array of range of string date like ['2020-01-01', '2020-12-31'].\n",
    "        @param trendline: String of the name of the column as y for training except for Date.\n",
    "        @param average: String of the name of the column to get the average of (excluding Date).\n",
    "\n",
    "        return: Dictionary of the stock data\n",
    "\n",
    "        '''\n",
    "\n",
    "        stock_data = self.__get_stock_data(period, interval, date_range)\n",
    "\n",
    "        # Enabling access to Date\n",
    "        stock_data = stock_data.reset_index()\n",
    "\n",
    "        # OHLC Average\n",
    "        ohlc_avg = [\n",
    "            (stock_data['Open'].values[i]\n",
    "            + stock_data['High'].values[i]\n",
    "            + stock_data['Low'].values[i]\n",
    "            + stock_data['Close'].values[i])/4\n",
    "            for i in range(len(stock_data))\n",
    "        ]\n",
    "\n",
    "        stock_data['OHLC Average'] = ohlc_avg\n",
    "\n",
    "        if trendline:\n",
    "            x = pd.to_datetime(stock_data['Date']).values.astype(float).reshape(-1, 1)\n",
    "            y = stock_data[[trendline]]\n",
    "            pred = self.__create_trendline(x, y)\n",
    "\n",
    "            column_name = trendline + ' Prediction'\n",
    "            stock_data[column_name] = pd.Series(pred)\n",
    "        \n",
    "        if average:\n",
    "            mean_value = self.__calculate_average(stock_data, average)\n",
    "\n",
    "            mean_name = average + ' Mean'\n",
    "            stock_data[mean_name] = [mean_value for i in range(len(stock_data))]\n",
    "\n",
    "        return stock_data.to_dict('index')\n"
   ]
  },
  {
   "source": [
    "## Testing\n",
    "The script below is used to test the functionality of the class."
   ],
   "cell_type": "markdown",
   "metadata": {}
  },
  {
   "cell_type": "code",
   "execution_count": 102,
   "metadata": {},
   "outputs": [],
   "source": [
    "stock = Stock('AAPL')"
   ]
  },
  {
   "cell_type": "code",
   "execution_count": 103,
   "metadata": {},
   "outputs": [
    {
     "output_type": "stream",
     "name": "stdout",
     "text": [
      "{'zip': '95014', 'sector': 'Technology', 'fullTimeEmployees': 147000, 'longBusinessSummary': 'Apple Inc. designs, manufactures, and markets smartphones, personal computers, tablets, wearables, and accessories worldwide. It also sells various related services. The company offers iPhone, a line of smartphones; Mac, a line of personal computers; iPad, a line of multi-purpose tablets; and wearables, home, and accessories comprising AirPods, Apple TV, Apple Watch, Beats products, HomePod, iPod touch, and other Apple-branded and third-party accessories. It also provides AppleCare support services; cloud services store services; and operates various platforms, including the App Store, that allow customers to discover and download applications and digital content, such as books, music, video, games, and podcasts. In addition, the company offers various services, such as Apple Arcade, a game subscription service; Apple Music, which offers users a curated listening experience with on-demand radio stations; Apple News+, a subscription news and magazine service; Apple TV+, which offers exclusive original content; Apple Card, a co-branded credit card; and Apple Pay, a cashless payment service, as well as licenses its intellectual property. The company serves consumers, and small and mid-sized businesses; and the education, enterprise, and government markets. It sells and delivers third-party applications for its products through the App Store. The company also sells its products through its retail and online stores, and direct sales force; and third-party cellular network carriers, wholesalers, retailers, and resellers. Apple Inc. was founded in 1977 and is headquartered in Cupertino, California.', 'city': 'Cupertino', 'phone': '408-996-1010', 'state': 'CA', 'country': 'United States', 'companyOfficers': [], 'website': 'http://www.apple.com', 'maxAge': 1, 'address1': 'One Apple Park Way', 'industry': 'Consumer Electronics', 'previousClose': 136.87, 'regularMarketOpen': 136.28, 'twoHundredDayAverage': 116.48034, 'trailingAnnualDividendYield': 0.0058084317, 'payoutRatio': 0.24239999, 'volume24Hr': None, 'regularMarketDayHigh': 139.85, 'navPrice': None, 'averageDailyVolume10Day': 99662271, 'totalAssets': None, 'regularMarketPreviousClose': 136.87, 'fiftyDayAverage': 128.66757, 'trailingAnnualDividendRate': 0.795, 'open': 136.28, 'toCurrency': None, 'averageVolume10days': 99662271, 'expireDate': None, 'yield': None, 'algorithm': None, 'dividendRate': 0.82, 'exDividendDate': 1604620800, 'beta': 1.283613, 'circulatingSupply': None, 'startDate': None, 'regularMarketDayLow': 135.02, 'priceHint': 2, 'currency': 'USD', 'trailingPE': 42.51195, 'regularMarketVolume': 101067422, 'lastMarket': None, 'maxSupply': None, 'openInterest': None, 'marketCap': 2345827303424, 'volumeAllCurrencies': None, 'strikePrice': None, 'averageVolume': 108451348, 'priceToSalesTrailing12Months': 8.545352, 'dayLow': 135.02, 'ask': 139.73, 'ytdReturn': None, 'askSize': 3000, 'volume': 101067422, 'fiftyTwoWeekHigh': 139.85, 'forwardPE': 31.908283, 'fromCurrency': None, 'fiveYearAvgDividendYield': 1.46, 'fiftyTwoWeekLow': 53.1525, 'bid': 139.71, 'tradeable': False, 'dividendYield': 0.006, 'bidSize': 1300, 'dayHigh': 139.85, 'exchange': 'NMS', 'shortName': 'Apple Inc.', 'longName': 'Apple Inc.', 'exchangeTimezoneName': 'America/New_York', 'exchangeTimezoneShortName': 'EST', 'isEsgPopulated': False, 'gmtOffSetMilliseconds': '-18000000', 'quoteType': 'EQUITY', 'symbol': 'AAPL', 'messageBoardId': 'finmb_24937', 'market': 'us_market', 'annualHoldingsTurnover': None, 'enterpriseToRevenue': 8.591, 'beta3Year': None, 'profitMargins': 0.20914, 'enterpriseToEbitda': 30.492, '52WeekChange': 0.7199584, 'morningStarRiskRating': None, 'forwardEps': 4.37, 'revenueQuarterlyGrowth': None, 'sharesOutstanding': 16823300096, 'fundInceptionDate': None, 'annualReportExpenseRatio': None, 'bookValue': 3.849, 'sharesShort': 91091816, 'sharesPercentSharesOut': 0.0054, 'fundFamily': None, 'lastFiscalYearEnd': 1601078400, 'heldPercentInstitutions': 0.59661996, 'netIncomeToCommon': 57410998272, 'trailingEps': 3.28, 'lastDividendValue': 0.205, 'SandP52WeekChange': 0.16920197, 'priceToBook': 36.227383, 'heldPercentInsiders': 0.00065, 'nextFiscalYearEnd': 1664150400, 'mostRecentQuarter': 1601078400, 'shortRatio': 0.84, 'sharesShortPreviousMonthDate': 1606694400, 'floatShares': 16984460162, 'enterpriseValue': 2358371680256, 'threeYearAverageReturn': None, 'lastSplitDate': 1598832000, 'lastSplitFactor': '4:1', 'legalType': None, 'lastDividendDate': 1604620800, 'morningStarOverallRating': None, 'earningsQuarterlyGrowth': -0.074, 'dateShortInterest': 1609372800, 'pegRatio': 2.54, 'lastCapGain': None, 'shortPercentOfFloat': 0.0054, 'sharesShortPriorMonth': 89985311, 'impliedSharesOutstanding': None, 'category': None, 'fiveYearAverageReturn': None, 'regularMarketPrice': 136.28, 'logo_url': 'https://logo.clearbit.com/apple.com'}\n"
     ]
    }
   ],
   "source": [
    "print(stock.get_info())"
   ]
  },
  {
   "cell_type": "code",
   "execution_count": 104,
   "metadata": {},
   "outputs": [
    {
     "output_type": "stream",
     "name": "stdout",
     "text": [
      "{0: {'Holder': 'Vanguard Group, Inc. (The)', 'Shares': 1280669129, 'Date Reported': Timestamp('2020-09-29 00:00:00'), '% Out': 0.0761, 'Value': 148314291829}, 1: {'Holder': 'Blackrock Inc.', 'Shares': 1069771045, 'Date Reported': Timestamp('2020-09-29 00:00:00'), '% Out': 0.0636, 'Value': 123890184721}, 2: {'Holder': 'Berkshire Hathaway, Inc', 'Shares': 944295554, 'Date Reported': Timestamp('2020-09-29 00:00:00'), '% Out': 0.056100000000000004, 'Value': 109358868108}, 3: {'Holder': 'State Street Corporation', 'Shares': 672444836, 'Date Reported': Timestamp('2020-09-29 00:00:00'), '% Out': 0.04, 'Value': 77875836457}, 4: {'Holder': 'FMR, LLC', 'Shares': 346699497, 'Date Reported': Timestamp('2020-09-29 00:00:00'), '% Out': 0.0206, 'Value': 40151268747}, 5: {'Holder': 'Geode Capital Management, LLC', 'Shares': 247838449, 'Date Reported': Timestamp('2020-09-29 00:00:00'), '% Out': 0.0147, 'Value': 28702170778}, 6: {'Holder': 'Price (T.Rowe) Associates Inc', 'Shares': 228869394, 'Date Reported': Timestamp('2020-09-29 00:00:00'), '% Out': 0.013600000000000001, 'Value': 26505364519}, 7: {'Holder': 'Northern Trust Corporation', 'Shares': 210830547, 'Date Reported': Timestamp('2020-09-29 00:00:00'), '% Out': 0.0125, 'Value': 24416285648}, 8: {'Holder': 'Norges Bank Investment Management', 'Shares': 187425092, 'Date Reported': Timestamp('2019-12-30 00:00:00'), '% Out': 0.0111, 'Value': 13759344566}, 9: {'Holder': 'Bank Of New York Mellon Corporation', 'Shares': 166053767, 'Date Reported': Timestamp('2020-09-29 00:00:00'), '% Out': 0.009899999999999999, 'Value': 19230686756}}\n"
     ]
    }
   ],
   "source": [
    "print(stock.get_holders())"
   ]
  },
  {
   "cell_type": "code",
   "execution_count": 105,
   "metadata": {},
   "outputs": [
    {
     "output_type": "stream",
     "name": "stdout",
     "text": [
      "{'Earnings Date': Timestamp('2021-01-27 00:00:00'), 'Earnings Average': 1.4, 'Earnings Low': 1.23, 'Earnings High': 1.57, 'Revenue Average': 102758000000, 'Revenue Low': 97739000000, 'Revenue High': 110211000000}\n"
     ]
    }
   ],
   "source": [
    "print(stock.get_calendar())"
   ]
  },
  {
   "cell_type": "code",
   "execution_count": 106,
   "metadata": {},
   "outputs": [
    {
     "output_type": "stream",
     "name": "stdout",
     "text": [
      "[*********************100%***********************]  1 of 1 completed\n",
      "{0: {'Date': Timestamp('2020-10-22 00:00:00'), 'Open': 117.44999694824219, 'High': 118.04000091552734, 'Low': 114.58999633789062, 'Close': 115.75, 'Adj Close': 115.55064392089844, 'Volume': 101988000, 'OHLC Average': 116.45749855041504}, 1: {'Date': Timestamp('2020-10-23 00:00:00'), 'Open': 116.38999938964844, 'High': 116.55000305175781, 'Low': 114.27999877929688, 'Close': 115.04000091552734, 'Adj Close': 114.84187316894531, 'Volume': 82572600, 'OHLC Average': 115.56500053405762}, 2: {'Date': Timestamp('2020-10-26 00:00:00'), 'Open': 114.01000213623047, 'High': 116.55000305175781, 'Low': 112.87999725341797, 'Close': 115.05000305175781, 'Adj Close': 114.85185241699219, 'Volume': 111850700, 'OHLC Average': 114.62250137329102}, 3: {'Date': Timestamp('2020-10-27 00:00:00'), 'Open': 115.48999786376953, 'High': 117.27999877929688, 'Low': 114.54000091552734, 'Close': 116.5999984741211, 'Adj Close': 116.39917755126953, 'Volume': 92276800, 'OHLC Average': 115.97749900817871}, 4: {'Date': Timestamp('2020-10-28 00:00:00'), 'Open': 115.05000305175781, 'High': 115.43000030517578, 'Low': 111.0999984741211, 'Close': 111.19999694824219, 'Adj Close': 111.00847625732422, 'Volume': 143937800, 'OHLC Average': 113.19499969482422}, 5: {'Date': Timestamp('2020-10-29 00:00:00'), 'Open': 112.37000274658203, 'High': 116.93000030517578, 'Low': 112.19999694824219, 'Close': 115.31999969482422, 'Adj Close': 115.12138366699219, 'Volume': 146129200, 'OHLC Average': 114.20499992370605}, 6: {'Date': Timestamp('2020-10-30 00:00:00'), 'Open': 111.05999755859375, 'High': 111.98999786376953, 'Low': 107.72000122070312, 'Close': 108.86000061035156, 'Adj Close': 108.67251586914062, 'Volume': 190272600, 'OHLC Average': 109.90749931335449}, 7: {'Date': Timestamp('2020-11-02 00:00:00'), 'Open': 109.11000061035156, 'High': 110.68000030517578, 'Low': 107.31999969482422, 'Close': 108.7699966430664, 'Adj Close': 108.5826644897461, 'Volume': 122866900, 'OHLC Average': 108.96999931335449}, 8: {'Date': Timestamp('2020-11-03 00:00:00'), 'Open': 109.66000366210938, 'High': 111.48999786376953, 'Low': 108.7300033569336, 'Close': 110.44000244140625, 'Adj Close': 110.24979400634766, 'Volume': 107624400, 'OHLC Average': 110.08000183105469}, 9: {'Date': Timestamp('2020-11-04 00:00:00'), 'Open': 114.13999938964844, 'High': 115.58999633789062, 'Low': 112.3499984741211, 'Close': 114.94999694824219, 'Adj Close': 114.75202178955078, 'Volume': 138235500, 'OHLC Average': 114.25749778747559}, 10: {'Date': Timestamp('2020-11-05 00:00:00'), 'Open': 117.94999694824219, 'High': 119.62000274658203, 'Low': 116.87000274658203, 'Close': 119.02999877929688, 'Adj Close': 118.82499694824219, 'Volume': 126387100, 'OHLC Average': 118.36750030517578}, 11: {'Date': Timestamp('2020-11-06 00:00:00'), 'Open': 118.31999969482422, 'High': 119.19999694824219, 'Low': 116.12999725341797, 'Close': 118.69000244140625, 'Adj Close': 118.69000244140625, 'Volume': 114457900, 'OHLC Average': 118.08499908447266}, 12: {'Date': Timestamp('2020-11-09 00:00:00'), 'Open': 120.5, 'High': 121.98999786376953, 'Low': 116.05000305175781, 'Close': 116.31999969482422, 'Adj Close': 116.31999969482422, 'Volume': 154515300, 'OHLC Average': 118.71500015258789}, 13: {'Date': Timestamp('2020-11-10 00:00:00'), 'Open': 115.55000305175781, 'High': 117.58999633789062, 'Low': 114.12999725341797, 'Close': 115.97000122070312, 'Adj Close': 115.97000122070312, 'Volume': 138023400, 'OHLC Average': 115.80999946594238}, 14: {'Date': Timestamp('2020-11-11 00:00:00'), 'Open': 117.19000244140625, 'High': 119.62999725341797, 'Low': 116.44000244140625, 'Close': 119.48999786376953, 'Adj Close': 119.48999786376953, 'Volume': 112295000, 'OHLC Average': 118.1875}, 15: {'Date': Timestamp('2020-11-12 00:00:00'), 'Open': 119.62000274658203, 'High': 120.52999877929688, 'Low': 118.56999969482422, 'Close': 119.20999908447266, 'Adj Close': 119.20999908447266, 'Volume': 103162300, 'OHLC Average': 119.48250007629395}, 16: {'Date': Timestamp('2020-11-13 00:00:00'), 'Open': 119.44000244140625, 'High': 119.66999816894531, 'Low': 117.87000274658203, 'Close': 119.26000213623047, 'Adj Close': 119.26000213623047, 'Volume': 81581900, 'OHLC Average': 119.06000137329102}, 17: {'Date': Timestamp('2020-11-16 00:00:00'), 'Open': 118.91999816894531, 'High': 120.98999786376953, 'Low': 118.1500015258789, 'Close': 120.30000305175781, 'Adj Close': 120.30000305175781, 'Volume': 91183000, 'OHLC Average': 119.59000015258789}, 18: {'Date': Timestamp('2020-11-17 00:00:00'), 'Open': 119.55000305175781, 'High': 120.66999816894531, 'Low': 118.95999908447266, 'Close': 119.38999938964844, 'Adj Close': 119.38999938964844, 'Volume': 74271000, 'OHLC Average': 119.64249992370605}, 19: {'Date': Timestamp('2020-11-18 00:00:00'), 'Open': 118.61000061035156, 'High': 119.81999969482422, 'Low': 118.0, 'Close': 118.02999877929688, 'Adj Close': 118.02999877929688, 'Volume': 76322100, 'OHLC Average': 118.61499977111816}, 20: {'Date': Timestamp('2020-11-19 00:00:00'), 'Open': 117.58999633789062, 'High': 119.05999755859375, 'Low': 116.80999755859375, 'Close': 118.63999938964844, 'Adj Close': 118.63999938964844, 'Volume': 74113000, 'OHLC Average': 118.02499771118164}, 21: {'Date': Timestamp('2020-11-20 00:00:00'), 'Open': 118.63999938964844, 'High': 118.7699966430664, 'Low': 117.29000091552734, 'Close': 117.33999633789062, 'Adj Close': 117.33999633789062, 'Volume': 73604300, 'OHLC Average': 118.0099983215332}, 22: {'Date': Timestamp('2020-11-23 00:00:00'), 'Open': 117.18000030517578, 'High': 117.62000274658203, 'Low': 113.75, 'Close': 113.8499984741211, 'Adj Close': 113.8499984741211, 'Volume': 127959300, 'OHLC Average': 115.60000038146973}, 23: {'Date': Timestamp('2020-11-24 00:00:00'), 'Open': 113.91000366210938, 'High': 115.8499984741211, 'Low': 112.58999633789062, 'Close': 115.16999816894531, 'Adj Close': 115.16999816894531, 'Volume': 113874200, 'OHLC Average': 114.3799991607666}, 24: {'Date': Timestamp('2020-11-25 00:00:00'), 'Open': 115.55000305175781, 'High': 116.75, 'Low': 115.16999816894531, 'Close': 116.02999877929688, 'Adj Close': 116.02999877929688, 'Volume': 76499200, 'OHLC Average': 115.875}, 25: {'Date': Timestamp('2020-11-27 00:00:00'), 'Open': 116.56999969482422, 'High': 117.48999786376953, 'Low': 116.22000122070312, 'Close': 116.58999633789062, 'Adj Close': 116.58999633789062, 'Volume': 46691300, 'OHLC Average': 116.71749877929688}, 26: {'Date': Timestamp('2020-11-30 00:00:00'), 'Open': 116.97000122070312, 'High': 120.97000122070312, 'Low': 116.80999755859375, 'Close': 119.05000305175781, 'Adj Close': 119.05000305175781, 'Volume': 169410200, 'OHLC Average': 118.45000076293945}, 27: {'Date': Timestamp('2020-12-01 00:00:00'), 'Open': 121.01000213623047, 'High': 123.47000122070312, 'Low': 120.01000213623047, 'Close': 122.72000122070312, 'Adj Close': 122.72000122070312, 'Volume': 128166800, 'OHLC Average': 121.8025016784668}, 28: {'Date': Timestamp('2020-12-02 00:00:00'), 'Open': 122.0199966430664, 'High': 123.37000274658203, 'Low': 120.88999938964844, 'Close': 123.08000183105469, 'Adj Close': 123.08000183105469, 'Volume': 89004200, 'OHLC Average': 122.34000015258789}, 29: {'Date': Timestamp('2020-12-03 00:00:00'), 'Open': 123.5199966430664, 'High': 123.77999877929688, 'Low': 122.20999908447266, 'Close': 122.94000244140625, 'Adj Close': 122.94000244140625, 'Volume': 78967600, 'OHLC Average': 123.11249923706055}, 30: {'Date': Timestamp('2020-12-04 00:00:00'), 'Open': 122.5999984741211, 'High': 122.86000061035156, 'Low': 121.5199966430664, 'Close': 122.25, 'Adj Close': 122.25, 'Volume': 78260400, 'OHLC Average': 122.30749893188477}, 31: {'Date': Timestamp('2020-12-07 00:00:00'), 'Open': 122.30999755859375, 'High': 124.56999969482422, 'Low': 122.25, 'Close': 123.75, 'Adj Close': 123.75, 'Volume': 86712000, 'OHLC Average': 123.21999931335449}, 32: {'Date': Timestamp('2020-12-08 00:00:00'), 'Open': 124.37000274658203, 'High': 124.9800033569336, 'Low': 123.08999633789062, 'Close': 124.37999725341797, 'Adj Close': 124.37999725341797, 'Volume': 82225500, 'OHLC Average': 124.20499992370605}, 33: {'Date': Timestamp('2020-12-09 00:00:00'), 'Open': 124.52999877929688, 'High': 125.94999694824219, 'Low': 121.0, 'Close': 121.77999877929688, 'Adj Close': 121.77999877929688, 'Volume': 115089200, 'OHLC Average': 123.31499862670898}, 34: {'Date': Timestamp('2020-12-10 00:00:00'), 'Open': 120.5, 'High': 123.87000274658203, 'Low': 120.1500015258789, 'Close': 123.23999786376953, 'Adj Close': 123.23999786376953, 'Volume': 81312200, 'OHLC Average': 121.94000053405762}, 35: {'Date': Timestamp('2020-12-11 00:00:00'), 'Open': 122.43000030517578, 'High': 122.76000213623047, 'Low': 120.55000305175781, 'Close': 122.41000366210938, 'Adj Close': 122.41000366210938, 'Volume': 86939800, 'OHLC Average': 122.03750228881836}, 36: {'Date': Timestamp('2020-12-14 00:00:00'), 'Open': 122.5999984741211, 'High': 123.3499984741211, 'Low': 121.54000091552734, 'Close': 121.77999877929688, 'Adj Close': 121.77999877929688, 'Volume': 79184500, 'OHLC Average': 122.3174991607666}, 37: {'Date': Timestamp('2020-12-15 00:00:00'), 'Open': 124.33999633789062, 'High': 127.9000015258789, 'Low': 124.12999725341797, 'Close': 127.87999725341797, 'Adj Close': 127.87999725341797, 'Volume': 157572300, 'OHLC Average': 126.06249809265137}, 38: {'Date': Timestamp('2020-12-16 00:00:00'), 'Open': 127.41000366210938, 'High': 128.3699951171875, 'Low': 126.55999755859375, 'Close': 127.80999755859375, 'Adj Close': 127.80999755859375, 'Volume': 98208600, 'OHLC Average': 127.5374984741211}, 39: {'Date': Timestamp('2020-12-17 00:00:00'), 'Open': 128.89999389648438, 'High': 129.5800018310547, 'Low': 128.0399932861328, 'Close': 128.6999969482422, 'Adj Close': 128.6999969482422, 'Volume': 94359800, 'OHLC Average': 128.80499649047852}, 40: {'Date': Timestamp('2020-12-18 00:00:00'), 'Open': 128.9600067138672, 'High': 129.10000610351562, 'Low': 126.12000274658203, 'Close': 126.66000366210938, 'Adj Close': 126.66000366210938, 'Volume': 192541500, 'OHLC Average': 127.71000480651855}, 41: {'Date': Timestamp('2020-12-21 00:00:00'), 'Open': 125.0199966430664, 'High': 128.30999755859375, 'Low': 123.44999694824219, 'Close': 128.22999572753906, 'Adj Close': 128.22999572753906, 'Volume': 121251600, 'OHLC Average': 126.25249671936035}, 42: {'Date': Timestamp('2020-12-22 00:00:00'), 'Open': 131.61000061035156, 'High': 134.41000366210938, 'Low': 129.64999389648438, 'Close': 131.8800048828125, 'Adj Close': 131.8800048828125, 'Volume': 168904800, 'OHLC Average': 131.88750076293945}, 43: {'Date': Timestamp('2020-12-23 00:00:00'), 'Open': 132.16000366210938, 'High': 132.42999267578125, 'Low': 130.77999877929688, 'Close': 130.9600067138672, 'Adj Close': 130.9600067138672, 'Volume': 88223700, 'OHLC Average': 131.58250045776367}, 44: {'Date': Timestamp('2020-12-24 00:00:00'), 'Open': 131.32000732421875, 'High': 133.4600067138672, 'Low': 131.10000610351562, 'Close': 131.97000122070312, 'Adj Close': 131.97000122070312, 'Volume': 54930100, 'OHLC Average': 131.96250534057617}, 45: {'Date': Timestamp('2020-12-28 00:00:00'), 'Open': 133.99000549316406, 'High': 137.33999633789062, 'Low': 133.50999450683594, 'Close': 136.69000244140625, 'Adj Close': 136.69000244140625, 'Volume': 124486200, 'OHLC Average': 135.38249969482422}, 46: {'Date': Timestamp('2020-12-29 00:00:00'), 'Open': 138.0500030517578, 'High': 138.7899932861328, 'Low': 134.33999633789062, 'Close': 134.8699951171875, 'Adj Close': 134.8699951171875, 'Volume': 121047300, 'OHLC Average': 136.5124969482422}, 47: {'Date': Timestamp('2020-12-30 00:00:00'), 'Open': 135.5800018310547, 'High': 135.99000549316406, 'Low': 133.39999389648438, 'Close': 133.72000122070312, 'Adj Close': 133.72000122070312, 'Volume': 96452100, 'OHLC Average': 134.67250061035156}, 48: {'Date': Timestamp('2020-12-31 00:00:00'), 'Open': 134.0800018310547, 'High': 134.74000549316406, 'Low': 131.72000122070312, 'Close': 132.69000244140625, 'Adj Close': 132.69000244140625, 'Volume': 98990400, 'OHLC Average': 133.30750274658203}, 49: {'Date': Timestamp('2021-01-04 00:00:00'), 'Open': 133.52000427246094, 'High': 133.61000061035156, 'Low': 126.76000213623047, 'Close': 129.41000366210938, 'Adj Close': 129.41000366210938, 'Volume': 143301900, 'OHLC Average': 130.8250026702881}, 50: {'Date': Timestamp('2021-01-05 00:00:00'), 'Open': 128.88999938964844, 'High': 131.74000549316406, 'Low': 128.42999267578125, 'Close': 131.00999450683594, 'Adj Close': 131.00999450683594, 'Volume': 97664900, 'OHLC Average': 130.01749801635742}, 51: {'Date': Timestamp('2021-01-06 00:00:00'), 'Open': 127.72000122070312, 'High': 131.0500030517578, 'Low': 126.37999725341797, 'Close': 126.5999984741211, 'Adj Close': 126.5999984741211, 'Volume': 155088000, 'OHLC Average': 127.9375}, 52: {'Date': Timestamp('2021-01-07 00:00:00'), 'Open': 128.36000061035156, 'High': 131.6300048828125, 'Low': 127.86000061035156, 'Close': 130.9199981689453, 'Adj Close': 130.9199981689453, 'Volume': 109578200, 'OHLC Average': 129.69250106811523}, 53: {'Date': Timestamp('2021-01-08 00:00:00'), 'Open': 132.42999267578125, 'High': 132.6300048828125, 'Low': 130.22999572753906, 'Close': 132.0500030517578, 'Adj Close': 132.0500030517578, 'Volume': 105158200, 'OHLC Average': 131.83499908447266}, 54: {'Date': Timestamp('2021-01-11 00:00:00'), 'Open': 129.19000244140625, 'High': 130.1699981689453, 'Low': 128.5, 'Close': 128.97999572753906, 'Adj Close': 128.97999572753906, 'Volume': 100620900, 'OHLC Average': 129.20999908447266}, 55: {'Date': Timestamp('2021-01-12 00:00:00'), 'Open': 128.5, 'High': 129.69000244140625, 'Low': 126.86000061035156, 'Close': 128.8000030517578, 'Adj Close': 128.8000030517578, 'Volume': 91951100, 'OHLC Average': 128.4625015258789}, 56: {'Date': Timestamp('2021-01-13 00:00:00'), 'Open': 128.75999450683594, 'High': 131.4499969482422, 'Low': 128.49000549316406, 'Close': 130.88999938964844, 'Adj Close': 130.88999938964844, 'Volume': 88636800, 'OHLC Average': 129.89749908447266}, 57: {'Date': Timestamp('2021-01-14 00:00:00'), 'Open': 130.8000030517578, 'High': 131.0, 'Low': 128.75999450683594, 'Close': 128.91000366210938, 'Adj Close': 128.91000366210938, 'Volume': 90221800, 'OHLC Average': 129.86750030517578}, 58: {'Date': Timestamp('2021-01-15 00:00:00'), 'Open': 128.77999877929688, 'High': 130.22000122070312, 'Low': 127.0, 'Close': 127.13999938964844, 'Adj Close': 127.13999938964844, 'Volume': 111598500, 'OHLC Average': 128.2849998474121}, 59: {'Date': Timestamp('2021-01-19 00:00:00'), 'Open': 127.77999877929688, 'High': 128.7100067138672, 'Low': 126.94000244140625, 'Close': 127.83000183105469, 'Adj Close': 127.83000183105469, 'Volume': 90757300, 'OHLC Average': 127.81500244140625}, 60: {'Date': Timestamp('2021-01-20 00:00:00'), 'Open': 128.66000366210938, 'High': 132.49000549316406, 'Low': 128.5500030517578, 'Close': 132.02999877929688, 'Adj Close': 132.02999877929688, 'Volume': 104319500, 'OHLC Average': 130.43250274658203}, 61: {'Date': Timestamp('2021-01-21 00:00:00'), 'Open': 133.8000030517578, 'High': 139.6699981689453, 'Low': 133.58999633789062, 'Close': 136.8699951171875, 'Adj Close': 136.8699951171875, 'Volume': 120150900, 'OHLC Average': 135.9824981689453}, 62: {'Date': Timestamp('2021-01-22 00:00:00'), 'Open': 136.27999877929688, 'High': 139.85000610351562, 'Low': 135.02000427246094, 'Close': 139.4250030517578, 'Adj Close': 139.4250030517578, 'Volume': 101072856, 'OHLC Average': 137.6437530517578}}\n"
     ]
    }
   ],
   "source": [
    "print(stock.get_data())"
   ]
  }
 ]
}