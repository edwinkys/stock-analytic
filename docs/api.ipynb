{
 "metadata": {
  "language_info": {
   "codemirror_mode": {
    "name": "ipython",
    "version": 3
   },
   "file_extension": ".py",
   "mimetype": "text/x-python",
   "name": "python",
   "nbconvert_exporter": "python",
   "pygments_lexer": "ipython3",
   "version": "3.9.0-final"
  },
  "orig_nbformat": 2,
  "kernelspec": {
   "name": "python3",
   "display_name": "Python 3",
   "language": "python"
  }
 },
 "nbformat": 4,
 "nbformat_minor": 2,
 "cells": [
  {
   "source": [
    "# Interial API\n",
    "This notebook is to develop functions and classes for Interial back end API."
   ],
   "cell_type": "markdown",
   "metadata": {}
  },
  {
   "cell_type": "code",
   "execution_count": 1,
   "metadata": {},
   "outputs": [],
   "source": [
    "# Import libraries\n",
    "import yfinance as yf\n",
    "import pandas as pd\n",
    "\n",
    "from sklearn.linear_model import LinearRegression"
   ]
  },
  {
   "cell_type": "code",
   "execution_count": 2,
   "metadata": {},
   "outputs": [],
   "source": [
    "class Stock():\n",
    "    '''\n",
    "\n",
    "    This class is to gather information and data about a certain stock.\n",
    "\n",
    "    methods:\n",
    "    - get_info\n",
    "    - get_holders\n",
    "    - get_calendar\n",
    "    - get_data\n",
    "\n",
    "    '''\n",
    "\n",
    "    def __init__(self, symbol):\n",
    "        self.symbol = symbol\n",
    "        self.stock = yf.Ticker(symbol)\n",
    "\n",
    "    def __create_trendline(self, x, y, x_predict):\n",
    "        '''\n",
    "\n",
    "        Create trendline from the data.\n",
    "\n",
    "        @param x: Pandas series of datetime like pd.to_datetime(stock_data['Date']).values.astype(float).reshape(-1, 1).\n",
    "        @param y: Pandas dataframe of price.\n",
    "        @param x_predict: Pandas series of datetime to predict.\n",
    "\n",
    "        return: Numpy array of predicted y based on x.\n",
    "\n",
    "        '''\n",
    "\n",
    "        reg = LinearRegression()\n",
    "\n",
    "        model = reg.fit(x, y)\n",
    "\n",
    "        prediction = model.predict(x_predict).ravel()\n",
    "\n",
    "        return prediction\n",
    "\n",
    "    def __calculate_average(self, df, column):\n",
    "        '''\n",
    "\n",
    "        Calculate the average overall value of a stock data or column, excluding Date.\n",
    "\n",
    "        @param df: Pandas dataframe of the data.\n",
    "        @param column: String of the column name.\n",
    "\n",
    "        return: Average value.\n",
    "\n",
    "        '''\n",
    "\n",
    "        return df[column].mean()\n",
    "\n",
    "    def __get_stock_data(self, period='3mo', interval='1d', date_range=[]):\n",
    "        '''\n",
    "\n",
    "        Get the stock price based on date.\n",
    "\n",
    "        @param period: The period of the stock data (1d, 5d, 1mo, 3mo, 6mo, 1y, 2y, 5y, 10y, ytd, max).\n",
    "        @param interval: The interval per data (1m, 2m, 5m, 15m, 30m, 60m, 90m, 1h, 1d, 5d, 1wk, 1mo, 3mo).\n",
    "        @param date_range: Array of range of string date like ['2020-01-01', '2020-12-31'].\n",
    "\n",
    "        return: Dataframe of stock data\n",
    "\n",
    "        '''\n",
    "\n",
    "        if date_range:\n",
    "            stock_data = yf.download(\n",
    "                tickers=self.symbol,\n",
    "                start=date_range[0],\n",
    "                end=date_range[1],\n",
    "                prepost=True\n",
    "            )\n",
    "        else:\n",
    "            stock_data = yf.download(\n",
    "                tickers=self.symbol,\n",
    "                period=period,\n",
    "                interval=interval,\n",
    "                prepost=True\n",
    "            )\n",
    "\n",
    "        return stock_data\n",
    "\n",
    "    def get_info(self, datapoints=None):\n",
    "        '''\n",
    "\n",
    "        Get summary of the stock.\n",
    "\n",
    "        @param datapoints: Array of datapoints to be returned.\n",
    "\n",
    "        return: Dictionary containing the summary.\n",
    "\n",
    "        '''\n",
    "\n",
    "        if datapoints:\n",
    "            return {key: value for key, value in self.stock.info.items() if key in datapoints}\n",
    "        else:\n",
    "            return self.stock.info\n",
    "\n",
    "    def get_holders(self, n_result=None):\n",
    "        '''\n",
    "\n",
    "        Get the shareholders of the company.\n",
    "\n",
    "        @param n_result: int to return some of the shareholders, max: 10.\n",
    "\n",
    "        return: Dictionary of shareholders.\n",
    "\n",
    "        '''\n",
    "\n",
    "        shareholders = self.stock.institutional_holders\n",
    "\n",
    "        shareholders = shareholders.to_dict('index')\n",
    "\n",
    "        if n_result:\n",
    "            return dict(list(shareholders.items())[:n_result])\n",
    "        else:\n",
    "            return shareholders\n",
    "\n",
    "    def get_calendar(self):\n",
    "        '''\n",
    "\n",
    "        Get the update from the latest schedule.\n",
    "\n",
    "        return: Dictionary of the update.\n",
    "\n",
    "        '''\n",
    "\n",
    "        update = self.stock.calendar.to_dict().get('Value')\n",
    "\n",
    "        return update\n",
    "\n",
    "    def get_data(self, period='3mo', interval='1d', date_range=None, trendline=None, average=None):\n",
    "        '''\n",
    "\n",
    "        Get the share price of the company.\n",
    "\n",
    "        @param period: The period of the stock data (1d, 5d, 1mo, 3mo, 6mo, 1y, 2y, 5y, 10y, ytd, max).\n",
    "        @param interval: The interval per data (1m, 2m, 5m, 15m, 30m, 60m, 90m, 1h, 1d, 5d, 1wk, 1mo, 3mo).\n",
    "        @param date_range: Array of range of string date like ['2020-01-01', '2020-12-31'].\n",
    "        @param trendline: String of the name of the column as y for training except for Date.\n",
    "        @param average: String of the name of the column to get the average of (excluding Date).\n",
    "\n",
    "        return: list of the stock data\n",
    "\n",
    "        '''\n",
    "\n",
    "        date_column = 'Date'\n",
    "        ts_format = '%b %d, %Y'\n",
    "\n",
    "        if interval in ['1m', '2m', '5m', '15m', '30m', '60m', '90m', '1h']:\n",
    "            date_column = 'Datetime'\n",
    "            ts_format = '%a %d at %H:%M'\n",
    "\n",
    "        stock_data = self.__get_stock_data(period, interval, date_range)\n",
    "\n",
    "        # Enabling access to Date\n",
    "        stock_data = stock_data.reset_index()\n",
    "\n",
    "        # Datetime\n",
    "        stock_data['Time'] = [ts.strftime(ts_format) for i, ts in stock_data[date_column].iteritems()]\n",
    "        stock_data['Index'] = [i + 1 for i, ts in stock_data[date_column].iteritems()]\n",
    "\n",
    "        if trendline:\n",
    "            temp_stock_data = stock_data\n",
    "\n",
    "            if temp_stock_data.isnull().values.any():\n",
    "                temp_stock_data = temp_stock_data.dropna()\n",
    "\n",
    "\n",
    "            x = temp_stock_data[['Index']]\n",
    "            x_predict = stock_data[['Index']]\n",
    "            # x = pd.to_datetime(temp_stock_data[date_column]).values.astype(float).reshape(-1, 1)\n",
    "            # x_predict = pd.to_datetime(stock_data[date_column]).values.astype(float).reshape(-1, 1)\n",
    "\n",
    "            y = temp_stock_data[[trendline]]\n",
    "\n",
    "            pred = self.__create_trendline(x, y, x_predict)\n",
    "\n",
    "            column_name = trendline + ' Prediction'\n",
    "            stock_data[column_name] = pd.Series(pred)\n",
    "\n",
    "        if average:\n",
    "            mean_value = self.__calculate_average(stock_data, average)\n",
    "\n",
    "            mean_name = average + ' Mean'\n",
    "            stock_data[mean_name] = [mean_value for i in range(len(stock_data))]\n",
    "\n",
    "        # Remove date or datetime column\n",
    "        columns_to_keep = ['Close', 'Time', 'Close Prediction', 'Close Mean']\n",
    "        stock_data.drop(stock_data.columns.difference(columns_to_keep), 1, inplace=True)\n",
    "\n",
    "        # Remove NaN value\n",
    "        stock_data.dropna(inplace=True)\n",
    "\n",
    "        return stock_data.to_dict('records')\n"
   ]
  },
  {
   "source": [
    "## Testing\n",
    "The script below is used to test the functionality of the class."
   ],
   "cell_type": "markdown",
   "metadata": {}
  },
  {
   "cell_type": "code",
   "execution_count": 3,
   "metadata": {},
   "outputs": [],
   "source": [
    "stock = Stock('AAPL')"
   ]
  },
  {
   "cell_type": "code",
   "execution_count": 4,
   "metadata": {},
   "outputs": [
    {
     "output_type": "stream",
     "name": "stdout",
     "text": [
      "{'zip': '95014', 'sector': 'Technology', 'fullTimeEmployees': 147000, 'longBusinessSummary': 'Apple Inc. designs, manufactures, and markets smartphones, personal computers, tablets, wearables, and accessories worldwide. It also sells various related services. The company offers iPhone, a line of smartphones; Mac, a line of personal computers; iPad, a line of multi-purpose tablets; and wearables, home, and accessories comprising AirPods, Apple TV, Apple Watch, Beats products, HomePod, iPod touch, and other Apple-branded and third-party accessories. It also provides AppleCare support services; cloud services store services; and operates various platforms, including the App Store, that allow customers to discover and download applications and digital content, such as books, music, video, games, and podcasts. In addition, the company offers various services, such as Apple Arcade, a game subscription service; Apple Music, which offers users a curated listening experience with on-demand radio stations; Apple News+, a subscription news and magazine service; Apple TV+, which offers exclusive original content; Apple Card, a co-branded credit card; and Apple Pay, a cashless payment service, as well as licenses its intellectual property. The company serves consumers, and small and mid-sized businesses; and the education, enterprise, and government markets. It sells and delivers third-party applications for its products through the App Store. The company also sells its products through its retail and online stores, and direct sales force; and third-party cellular network carriers, wholesalers, retailers, and resellers. Apple Inc. was founded in 1977 and is headquartered in Cupertino, California.', 'city': 'Cupertino', 'phone': '408-996-1010', 'state': 'CA', 'country': 'United States', 'companyOfficers': [], 'website': 'http://www.apple.com', 'maxAge': 1, 'address1': 'One Apple Park Way', 'industry': 'Consumer Electronics', 'previousClose': 129.87, 'regularMarketOpen': 128.01, 'twoHundredDayAverage': 122.545906, 'trailingAnnualDividendYield': 0.006213906, 'payoutRatio': 0.2177, 'volume24Hr': None, 'regularMarketDayHigh': 129.72, 'navPrice': None, 'averageDailyVolume10Day': 90574675, 'totalAssets': None, 'regularMarketPreviousClose': 129.87, 'fiftyDayAverage': 133.55576, 'trailingAnnualDividendRate': 0.807, 'open': 128.01, 'toCurrency': None, 'averageVolume10days': 90574675, 'expireDate': None, 'yield': None, 'algorithm': None, 'dividendRate': 0.82, 'exDividendDate': 1612483200, 'beta': 1.267876, 'circulatingSupply': None, 'startDate': None, 'regularMarketDayLow': 125.6, 'priceHint': 2, 'currency': 'USD', 'trailingPE': 34.174126, 'regularMarketVolume': 100925374, 'lastMarket': None, 'maxSupply': None, 'openInterest': None, 'marketCap': 2115300622336, 'volumeAllCurrencies': None, 'strikePrice': None, 'averageVolume': 104077640, 'priceToSalesTrailing12Months': 7.1915975, 'dayLow': 125.6, 'ask': 0, 'ytdReturn': None, 'askSize': 1100, 'volume': 100925374, 'fiftyTwoWeekHigh': 145.09, 'forwardPE': 26.923079, 'fromCurrency': None, 'fiveYearAvgDividendYield': 1.44, 'fiftyTwoWeekLow': 53.1525, 'bid': 0, 'tradeable': False, 'dividendYield': 0.0064999997, 'bidSize': 3100, 'dayHigh': 129.72, 'exchange': 'NMS', 'shortName': 'Apple Inc.', 'longName': 'Apple Inc.', 'exchangeTimezoneName': 'America/New_York', 'exchangeTimezoneShortName': 'EST', 'isEsgPopulated': False, 'gmtOffSetMilliseconds': '-18000000', 'quoteType': 'EQUITY', 'symbol': 'AAPL', 'messageBoardId': 'finmb_24937', 'market': 'us_market', 'annualHoldingsTurnover': None, 'enterpriseToRevenue': 7.311, 'beta3Year': None, 'profitMargins': 0.21735, 'enterpriseToEbitda': 25.253, '52WeekChange': 0.8032491, 'morningStarRiskRating': None, 'forwardEps': 4.68, 'revenueQuarterlyGrowth': None, 'sharesOutstanding': 16788100096, 'fundInceptionDate': None, 'annualReportExpenseRatio': None, 'bookValue': 3.936, 'sharesShort': 91862600, 'sharesPercentSharesOut': 0.0055, 'fundFamily': None, 'lastFiscalYearEnd': 1601078400, 'heldPercentInstitutions': 0.59661996, 'netIncomeToCommon': 63929999360, 'trailingEps': 3.687, 'lastDividendValue': 0.205, 'SandP52WeekChange': 0.1675049, 'priceToBook': 32.012196, 'heldPercentInsiders': 0.00065, 'nextFiscalYearEnd': 1664150400, 'mostRecentQuarter': 1608940800, 'shortRatio': 0.79, 'sharesShortPreviousMonthDate': 1609372800, 'floatShares': 16770804261, 'enterpriseValue': 2150517047296, 'threeYearAverageReturn': None, 'lastSplitDate': 1598832000, 'lastSplitFactor': '4:1', 'legalType': None, 'lastDividendDate': 1612483200, 'morningStarOverallRating': None, 'earningsQuarterlyGrowth': 0.293, 'dateShortInterest': 1611878400, 'pegRatio': 2.02, 'lastCapGain': None, 'shortPercentOfFloat': 0.0055, 'sharesShortPriorMonth': 91091816, 'impliedSharesOutstanding': None, 'category': None, 'fiveYearAverageReturn': None, 'regularMarketPrice': 128.01, 'logo_url': 'https://logo.clearbit.com/apple.com'}\n"
     ]
    }
   ],
   "source": [
    "print(stock.get_info())"
   ]
  },
  {
   "cell_type": "code",
   "execution_count": 5,
   "metadata": {},
   "outputs": [
    {
     "output_type": "stream",
     "name": "stdout",
     "text": [
      "{0: {'Holder': 'Vanguard Group, Inc. (The)', 'Shares': 1255155794, 'Date Reported': Timestamp('2020-12-30 00:00:00'), '% Out': 0.0748, 'Value': 166546622305}, 1: {'Holder': 'Blackrock Inc.', 'Shares': 1056461286, 'Date Reported': Timestamp('2020-12-30 00:00:00'), '% Out': 0.0629, 'Value': 140181848039}, 2: {'Holder': 'Berkshire Hathaway, Inc', 'Shares': 887135554, 'Date Reported': Timestamp('2020-12-30 00:00:00'), '% Out': 0.0528, 'Value': 117714016660}, 3: {'Holder': 'State Street Corporation', 'Shares': 638166552, 'Date Reported': Timestamp('2020-12-30 00:00:00'), '% Out': 0.038, 'Value': 84678319784}, 4: {'Holder': 'FMR, LLC', 'Shares': 358551697, 'Date Reported': Timestamp('2020-12-30 00:00:00'), '% Out': 0.021400000000000002, 'Value': 47576224674}, 5: {'Holder': 'Geode Capital Management, LLC', 'Shares': 247977084, 'Date Reported': Timestamp('2020-12-30 00:00:00'), '% Out': 0.0148, 'Value': 32904079275}, 6: {'Holder': 'Price (T.Rowe) Associates Inc', 'Shares': 210474648, 'Date Reported': Timestamp('2020-12-30 00:00:00'), '% Out': 0.0125, 'Value': 27927881043}, 7: {'Holder': 'Northern Trust Corporation', 'Shares': 205000080, 'Date Reported': Timestamp('2020-12-30 00:00:00'), '% Out': 0.012199999999999999, 'Value': 27201460615}, 8: {'Holder': 'Bank Of New York Mellon Corporation', 'Shares': 157791038, 'Date Reported': Timestamp('2020-12-30 00:00:00'), '% Out': 0.009399999999999999, 'Value': 20937292832}, 9: {'Holder': 'Bank of America Corporation', 'Shares': 136551580, 'Date Reported': Timestamp('2020-12-30 00:00:00'), '% Out': 0.008100000000000001, 'Value': 18119029150}}\n"
     ]
    }
   ],
   "source": [
    "print(stock.get_holders())"
   ]
  },
  {
   "cell_type": "code",
   "execution_count": 6,
   "metadata": {},
   "outputs": [
    {
     "output_type": "stream",
     "name": "stdout",
     "text": [
      "None\n"
     ]
    }
   ],
   "source": [
    "print(stock.get_calendar())"
   ]
  },
  {
   "cell_type": "code",
   "execution_count": 7,
   "metadata": {},
   "outputs": [
    {
     "output_type": "stream",
     "name": "stdout",
     "text": [
      "[*********************100%***********************]  1 of 1 completed\n",
      "[{'Close': 113.8499984741211, 'Time': 'Nov 23, 2020'}, {'Close': 115.16999816894531, 'Time': 'Nov 24, 2020'}, {'Close': 116.02999877929688, 'Time': 'Nov 25, 2020'}, {'Close': 116.58999633789062, 'Time': 'Nov 27, 2020'}, {'Close': 119.05000305175781, 'Time': 'Nov 30, 2020'}, {'Close': 122.72000122070312, 'Time': 'Dec 01, 2020'}, {'Close': 123.08000183105469, 'Time': 'Dec 02, 2020'}, {'Close': 122.94000244140625, 'Time': 'Dec 03, 2020'}, {'Close': 122.25, 'Time': 'Dec 04, 2020'}, {'Close': 123.75, 'Time': 'Dec 07, 2020'}, {'Close': 124.37999725341797, 'Time': 'Dec 08, 2020'}, {'Close': 121.77999877929688, 'Time': 'Dec 09, 2020'}, {'Close': 123.23999786376953, 'Time': 'Dec 10, 2020'}, {'Close': 122.41000366210938, 'Time': 'Dec 11, 2020'}, {'Close': 121.77999877929688, 'Time': 'Dec 14, 2020'}, {'Close': 127.87999725341797, 'Time': 'Dec 15, 2020'}, {'Close': 127.80999755859375, 'Time': 'Dec 16, 2020'}, {'Close': 128.6999969482422, 'Time': 'Dec 17, 2020'}, {'Close': 126.66000366210938, 'Time': 'Dec 18, 2020'}, {'Close': 128.22999572753906, 'Time': 'Dec 21, 2020'}, {'Close': 131.8800048828125, 'Time': 'Dec 22, 2020'}, {'Close': 130.9600067138672, 'Time': 'Dec 23, 2020'}, {'Close': 131.97000122070312, 'Time': 'Dec 24, 2020'}, {'Close': 136.69000244140625, 'Time': 'Dec 28, 2020'}, {'Close': 134.8699951171875, 'Time': 'Dec 29, 2020'}, {'Close': 133.72000122070312, 'Time': 'Dec 30, 2020'}, {'Close': 132.69000244140625, 'Time': 'Dec 31, 2020'}, {'Close': 129.41000366210938, 'Time': 'Jan 04, 2021'}, {'Close': 131.00999450683594, 'Time': 'Jan 05, 2021'}, {'Close': 126.5999984741211, 'Time': 'Jan 06, 2021'}, {'Close': 130.9199981689453, 'Time': 'Jan 07, 2021'}, {'Close': 132.0500030517578, 'Time': 'Jan 08, 2021'}, {'Close': 128.97999572753906, 'Time': 'Jan 11, 2021'}, {'Close': 128.8000030517578, 'Time': 'Jan 12, 2021'}, {'Close': 130.88999938964844, 'Time': 'Jan 13, 2021'}, {'Close': 128.91000366210938, 'Time': 'Jan 14, 2021'}, {'Close': 127.13999938964844, 'Time': 'Jan 15, 2021'}, {'Close': 127.83000183105469, 'Time': 'Jan 19, 2021'}, {'Close': 132.02999877929688, 'Time': 'Jan 20, 2021'}, {'Close': 136.8699951171875, 'Time': 'Jan 21, 2021'}, {'Close': 139.07000732421875, 'Time': 'Jan 22, 2021'}, {'Close': 142.9199981689453, 'Time': 'Jan 25, 2021'}, {'Close': 143.16000366210938, 'Time': 'Jan 26, 2021'}, {'Close': 142.05999755859375, 'Time': 'Jan 27, 2021'}, {'Close': 137.08999633789062, 'Time': 'Jan 28, 2021'}, {'Close': 131.9600067138672, 'Time': 'Jan 29, 2021'}, {'Close': 134.13999938964844, 'Time': 'Feb 01, 2021'}, {'Close': 134.99000549316406, 'Time': 'Feb 02, 2021'}, {'Close': 133.94000244140625, 'Time': 'Feb 03, 2021'}, {'Close': 137.38999938964844, 'Time': 'Feb 04, 2021'}, {'Close': 136.75999450683594, 'Time': 'Feb 05, 2021'}, {'Close': 136.91000366210938, 'Time': 'Feb 08, 2021'}, {'Close': 136.00999450683594, 'Time': 'Feb 09, 2021'}, {'Close': 135.38999938964844, 'Time': 'Feb 10, 2021'}, {'Close': 135.1300048828125, 'Time': 'Feb 11, 2021'}, {'Close': 135.3699951171875, 'Time': 'Feb 12, 2021'}, {'Close': 133.19000244140625, 'Time': 'Feb 16, 2021'}, {'Close': 130.83999633789062, 'Time': 'Feb 17, 2021'}, {'Close': 129.7100067138672, 'Time': 'Feb 18, 2021'}, {'Close': 129.8699951171875, 'Time': 'Feb 19, 2021'}, {'Close': 126.0, 'Time': 'Feb 22, 2021'}]\n"
     ]
    }
   ],
   "source": [
    "print(stock.get_data())"
   ]
  }
 ]
}