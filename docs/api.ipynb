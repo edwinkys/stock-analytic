{
 "metadata": {
  "language_info": {
   "codemirror_mode": {
    "name": "ipython",
    "version": 3
   },
   "file_extension": ".py",
   "mimetype": "text/x-python",
   "name": "python",
   "nbconvert_exporter": "python",
   "pygments_lexer": "ipython3",
   "version": "3.9.0-final"
  },
  "orig_nbformat": 2,
  "kernelspec": {
   "name": "python3",
   "display_name": "Python 3",
   "language": "python"
  }
 },
 "nbformat": 4,
 "nbformat_minor": 2,
 "cells": [
  {
   "source": [
    "# Interial API\n",
    "This notebook is to develop functions and classes for Interial back end API."
   ],
   "cell_type": "markdown",
   "metadata": {}
  },
  {
   "cell_type": "code",
   "execution_count": 3,
   "metadata": {},
   "outputs": [],
   "source": [
    "# Import libraries\n",
    "import yfinance as yf\n",
    "import pandas as pd\n",
    "\n",
    "from sklearn.linear_model import LinearRegression"
   ]
  },
  {
   "cell_type": "code",
   "execution_count": 34,
   "metadata": {},
   "outputs": [],
   "source": [
    "class Stock():\n",
    "    '''\n",
    "\n",
    "    This class is to gather information and data about a certain stock.\n",
    "\n",
    "    methods:\n",
    "    - get_info\n",
    "    - get_holders\n",
    "    - get_calendar\n",
    "    - get_data\n",
    "\n",
    "    '''\n",
    "\n",
    "    def __init__(self, symbol):\n",
    "        self.symbol = symbol\n",
    "        self.stock = yf.Ticker(symbol)\n",
    "\n",
    "    def __create_trendline(self, x, y):\n",
    "        '''\n",
    "\n",
    "        Create trendline from the data.\n",
    "\n",
    "        @param x: Pandas series of datetime like pd.to_datetime(stock_data['Date']).values.astype(float).reshape(-1, 1).\n",
    "        @param y: Pandas dataframe of price.\n",
    "\n",
    "        return: Numpy array of predicted y based on x.\n",
    "\n",
    "        '''\n",
    "\n",
    "        reg = LinearRegression()\n",
    "\n",
    "        model = reg.fit(x, y)\n",
    "\n",
    "        prediction = model.predict(x)\n",
    "\n",
    "        return prediction\n",
    "\n",
    "    def __calculate_average(self, df, column):\n",
    "        '''\n",
    "\n",
    "        Calculate the average overall value of a stock data or column, excluding Date.\n",
    "\n",
    "        @param df: Pandas dataframe of the data.\n",
    "        @param column: String of the column name.\n",
    "\n",
    "        return: Average value.\n",
    "\n",
    "        '''\n",
    "\n",
    "        return df[column].mean()\n",
    "    \n",
    "    def __get_stock_data(self, period='3mo', interval='1d', date_range=[]):\n",
    "        '''\n",
    "\n",
    "        Get the stock price based on date.\n",
    "\n",
    "        @param period: The period of the stock data (1d, 5d, 1mo, 3mo, 6mo, 1y, 2y, 5y, 10y, ytd, max).\n",
    "        @param interval: The interval per data (1m, 2m, 5m, 15m, 30m, 60m, 90m, 1h, 1d, 5d, 1wk, 1mo, 3mo).\n",
    "        @param date_range: Array of range of string date like ['2020-01-01', '2020-12-31'].\n",
    "\n",
    "        return: Dataframe of stock data\n",
    "\n",
    "        '''\n",
    "\n",
    "        if date_range:\n",
    "            stock_data = yf.download(\n",
    "                tickers=self.symbol,\n",
    "                start=date_range[0],\n",
    "                end=date_range[1]\n",
    "            )\n",
    "        else:\n",
    "            stock_data = yf.download(\n",
    "                tickers=self.symbol,\n",
    "                period=period,\n",
    "                interval=interval\n",
    "            )\n",
    "\n",
    "        return stock_data\n",
    "\n",
    "    def get_info(self, datapoints=None):\n",
    "        '''\n",
    "\n",
    "        Get summary of the stock.\n",
    "\n",
    "        @param datapoints: Array of datapoints to be returned.\n",
    "\n",
    "        return: Dictionary containing the summary.\n",
    "\n",
    "        '''\n",
    "\n",
    "        if datapoints:\n",
    "            return {key: value for key, value in self.stock.info.items() if key in datapoints}\n",
    "        else:\n",
    "            return self.stock.info\n",
    "\n",
    "    def get_holders(self, n_result=None):\n",
    "        '''\n",
    "\n",
    "        Get the shareholders of the company.\n",
    "\n",
    "        @param n_result: int to return some of the shareholders, max: 10.\n",
    "\n",
    "        return: Dictionary of shareholders.\n",
    "\n",
    "        '''\n",
    "\n",
    "        shareholders = self.stock.institutional_holders\n",
    "\n",
    "        shareholders = shareholders.to_dict('index')\n",
    "\n",
    "        if n_result:\n",
    "            return dict(list(shareholders.items())[:n_result])\n",
    "        else:\n",
    "            return shareholders\n",
    "\n",
    "    def get_calendar(self):\n",
    "        '''\n",
    "\n",
    "        Get the update from the latest schedule.\n",
    "\n",
    "        return: Dictionary of the update.\n",
    "\n",
    "        '''\n",
    "\n",
    "        update = self.stock.calendar.to_dict().get('Value')\n",
    "\n",
    "        return update\n",
    "\n",
    "    def get_data(self, period='3mo', interval='1d', date_range=None, trendline=None, average=None):\n",
    "        '''\n",
    "\n",
    "        Get the share price of the company.\n",
    "\n",
    "        @param period: The period of the stock data (1d, 5d, 1mo, 3mo, 6mo, 1y, 2y, 5y, 10y, ytd, max).\n",
    "        @param interval: The interval per data (1m, 2m, 5m, 15m, 30m, 60m, 90m, 1h, 1d, 5d, 1wk, 1mo, 3mo).\n",
    "        @param date_range: Array of range of string date like ['2020-01-01', '2020-12-31'].\n",
    "        @param trendline: String of the name of the column as y for training except for Date.\n",
    "        @param average: String of the name of the column to get the average of (excluding Date).\n",
    "\n",
    "        return: list of the stock data\n",
    "\n",
    "        '''\n",
    "\n",
    "        stock_data = self.__get_stock_data(period, interval, date_range)\n",
    "\n",
    "        # Enabling access to Date\n",
    "        stock_data = stock_data.reset_index()\n",
    "\n",
    "        # OHLC Average\n",
    "        ohlc_avg = [\n",
    "            (stock_data['Open'].values[i]\n",
    "            + stock_data['High'].values[i]\n",
    "            + stock_data['Low'].values[i]\n",
    "            + stock_data['Close'].values[i])/4\n",
    "            for i in range(len(stock_data))\n",
    "        ]\n",
    "\n",
    "        stock_data['OHLC Average'] = ohlc_avg\n",
    "\n",
    "        if trendline:\n",
    "            x = pd.to_datetime(stock_data['Date']).values.astype(float).reshape(-1, 1)\n",
    "            y = stock_data[[trendline]]\n",
    "            pred = self.__create_trendline(x, y)\n",
    "\n",
    "            column_name = trendline + ' Prediction'\n",
    "            stock_data[column_name] = pd.Series(pred)\n",
    "        \n",
    "        if average:\n",
    "            mean_value = self.__calculate_average(stock_data, average)\n",
    "\n",
    "            mean_name = average + ' Mean'\n",
    "            stock_data[mean_name] = [mean_value for i in range(len(stock_data))]\n",
    "\n",
    "        return stock_data.to_dict('records')\n"
   ]
  },
  {
   "source": [
    "## Testing\n",
    "The script below is used to test the functionality of the class."
   ],
   "cell_type": "markdown",
   "metadata": {}
  },
  {
   "cell_type": "code",
   "execution_count": 35,
   "metadata": {},
   "outputs": [],
   "source": [
    "stock = Stock('AAPL')"
   ]
  },
  {
   "cell_type": "code",
   "execution_count": 36,
   "metadata": {},
   "outputs": [
    {
     "output_type": "stream",
     "name": "stdout",
     "text": [
      "{'zip': '95014', 'sector': 'Technology', 'fullTimeEmployees': 147000, 'longBusinessSummary': 'Apple Inc. designs, manufactures, and markets smartphones, personal computers, tablets, wearables, and accessories worldwide. It also sells various related services. The company offers iPhone, a line of smartphones; Mac, a line of personal computers; iPad, a line of multi-purpose tablets; and wearables, home, and accessories comprising AirPods, Apple TV, Apple Watch, Beats products, HomePod, iPod touch, and other Apple-branded and third-party accessories. It also provides AppleCare support services; cloud services store services; and operates various platforms, including the App Store, that allow customers to discover and download applications and digital content, such as books, music, video, games, and podcasts. In addition, the company offers various services, such as Apple Arcade, a game subscription service; Apple Music, which offers users a curated listening experience with on-demand radio stations; Apple News+, a subscription news and magazine service; Apple TV+, which offers exclusive original content; Apple Card, a co-branded credit card; and Apple Pay, a cashless payment service, as well as licenses its intellectual property. The company serves consumers, and small and mid-sized businesses; and the education, enterprise, and government markets. It sells and delivers third-party applications for its products through the App Store. The company also sells its products through its retail and online stores, and direct sales force; and third-party cellular network carriers, wholesalers, retailers, and resellers. Apple Inc. was founded in 1977 and is headquartered in Cupertino, California.', 'city': 'Cupertino', 'phone': '408-996-1010', 'state': 'CA', 'country': 'United States', 'companyOfficers': [], 'website': 'http://www.apple.com', 'maxAge': 1, 'address1': 'One Apple Park Way', 'industry': 'Consumer Electronics', 'previousClose': 136.91, 'regularMarketOpen': 136.62, 'twoHundredDayAverage': 120.43009, 'trailingAnnualDividendYield': 0.005894383, 'payoutRatio': 0.2177, 'volume24Hr': None, 'regularMarketDayHigh': 137.877, 'navPrice': None, 'averageDailyVolume10Day': 85100033, 'totalAssets': None, 'regularMarketPreviousClose': 136.91, 'fiftyDayAverage': 133.41939, 'trailingAnnualDividendRate': 0.807, 'open': 136.62, 'toCurrency': None, 'averageVolume10days': 85100033, 'expireDate': None, 'yield': None, 'algorithm': None, 'dividendRate': 0.82, 'exDividendDate': 1612483200, 'beta': 1.267876, 'circulatingSupply': None, 'startDate': None, 'regularMarketDayLow': 135.85, 'priceHint': 2, 'currency': 'USD', 'trailingPE': 36.88907, 'regularMarketVolume': 76774213, 'lastMarket': None, 'maxSupply': None, 'openInterest': None, 'marketCap': 2283349475328, 'volumeAllCurrencies': None, 'strikePrice': None, 'averageVolume': 106255053, 'priceToSalesTrailing12Months': 7.76293, 'dayLow': 135.85, 'ask': 135.99, 'ytdReturn': None, 'askSize': 2900, 'volume': 76774213, 'fiftyTwoWeekHigh': 145.09, 'forwardPE': 28.999998, 'fromCurrency': None, 'fiveYearAvgDividendYield': 1.44, 'fiftyTwoWeekLow': 53.1525, 'bid': 135.84, 'tradeable': False, 'dividendYield': 0.006, 'bidSize': 1300, 'dayHigh': 137.877, 'exchange': 'NMS', 'shortName': 'Apple Inc.', 'longName': 'Apple Inc.', 'exchangeTimezoneName': 'America/New_York', 'exchangeTimezoneShortName': 'EST', 'isEsgPopulated': False, 'gmtOffSetMilliseconds': '-18000000', 'quoteType': 'EQUITY', 'symbol': 'AAPL', 'messageBoardId': 'finmb_24937', 'market': 'us_market', 'annualHoldingsTurnover': None, 'enterpriseToRevenue': 7.934, 'beta3Year': None, 'profitMargins': 0.21735, 'enterpriseToEbitda': 27.404, '52WeekChange': 0.7134634, 'morningStarRiskRating': None, 'forwardEps': 4.69, 'revenueQuarterlyGrowth': None, 'sharesOutstanding': 16788100096, 'fundInceptionDate': None, 'annualReportExpenseRatio': None, 'bookValue': 3.936, 'sharesShort': 99897228, 'sharesPercentSharesOut': 0.0058999998, 'fundFamily': None, 'lastFiscalYearEnd': 1601078400, 'heldPercentInstitutions': 0.59661996, 'netIncomeToCommon': 63929999360, 'trailingEps': 3.687, 'lastDividendValue': 0.205, 'SandP52WeekChange': 0.16613507, 'priceToBook': 34.555386, 'heldPercentInsiders': 0.00065, 'nextFiscalYearEnd': 1664150400, 'mostRecentQuarter': 1608940800, 'shortRatio': 0.88, 'sharesShortPreviousMonthDate': 1607990400, 'floatShares': 16770972142, 'enterpriseValue': 2333675094016, 'threeYearAverageReturn': None, 'lastSplitDate': 1598832000, 'lastSplitFactor': '4:1', 'legalType': None, 'lastDividendDate': 1612483200, 'morningStarOverallRating': None, 'earningsQuarterlyGrowth': 0.293, 'dateShortInterest': 1610668800, 'pegRatio': 2.02, 'lastCapGain': None, 'shortPercentOfFloat': 0.006, 'sharesShortPriorMonth': 94721417, 'impliedSharesOutstanding': None, 'category': None, 'fiveYearAverageReturn': None, 'regularMarketPrice': 136.62, 'logo_url': 'https://logo.clearbit.com/apple.com'}\n"
     ]
    }
   ],
   "source": [
    "print(stock.get_info())"
   ]
  },
  {
   "cell_type": "code",
   "execution_count": 37,
   "metadata": {},
   "outputs": [
    {
     "output_type": "stream",
     "name": "stdout",
     "text": [
      "{0: {'Holder': 'Vanguard Group, Inc. (The)', 'Shares': 1280669129, 'Date Reported': Timestamp('2020-09-29 00:00:00'), '% Out': 0.07629999999999999, 'Value': 148314291829}, 1: {'Holder': 'Blackrock Inc.', 'Shares': 1056461286, 'Date Reported': Timestamp('2020-12-30 00:00:00'), '% Out': 0.0629, 'Value': 140181848039}, 2: {'Holder': 'Berkshire Hathaway, Inc', 'Shares': 944295554, 'Date Reported': Timestamp('2020-09-29 00:00:00'), '% Out': 0.0562, 'Value': 109358868108}, 3: {'Holder': 'State Street Corporation', 'Shares': 672444836, 'Date Reported': Timestamp('2020-09-29 00:00:00'), '% Out': 0.0401, 'Value': 77875836457}, 4: {'Holder': 'FMR, LLC', 'Shares': 346699497, 'Date Reported': Timestamp('2020-09-29 00:00:00'), '% Out': 0.0207, 'Value': 40151268747}, 5: {'Holder': 'Geode Capital Management, LLC', 'Shares': 247838449, 'Date Reported': Timestamp('2020-09-29 00:00:00'), '% Out': 0.0148, 'Value': 28702170778}, 6: {'Holder': 'Price (T.Rowe) Associates Inc', 'Shares': 228869394, 'Date Reported': Timestamp('2020-09-29 00:00:00'), '% Out': 0.013600000000000001, 'Value': 26505364519}, 7: {'Holder': 'Northern Trust Corporation', 'Shares': 210830547, 'Date Reported': Timestamp('2020-09-29 00:00:00'), '% Out': 0.0126, 'Value': 24416285648}, 8: {'Holder': 'Norges Bank Investment Management', 'Shares': 187425092, 'Date Reported': Timestamp('2019-12-30 00:00:00'), '% Out': 0.011200000000000002, 'Value': 13759344566}, 9: {'Holder': 'Bank Of New York Mellon Corporation', 'Shares': 166053767, 'Date Reported': Timestamp('2020-09-29 00:00:00'), '% Out': 0.009899999999999999, 'Value': 19230686756}}\n"
     ]
    }
   ],
   "source": [
    "print(stock.get_holders())"
   ]
  },
  {
   "cell_type": "code",
   "execution_count": 38,
   "metadata": {},
   "outputs": [
    {
     "output_type": "stream",
     "name": "stdout",
     "text": [
      "None\n"
     ]
    }
   ],
   "source": [
    "print(stock.get_calendar())"
   ]
  },
  {
   "cell_type": "code",
   "execution_count": 39,
   "metadata": {},
   "outputs": [
    {
     "output_type": "stream",
     "name": "stdout",
     "text": [
      "[*********************100%***********************]  1 of 1 completed\n",
      "[{'Date': Timestamp('2020-11-10 00:00:00'), 'Open': 115.55000305175781, 'High': 117.58999633789062, 'Low': 114.12999725341797, 'Close': 115.97000122070312, 'Adj Close': 115.79696655273438, 'Volume': 138023400, 'OHLC Average': 115.80999946594238}, {'Date': Timestamp('2020-11-11 00:00:00'), 'Open': 117.19000244140625, 'High': 119.62999725341797, 'Low': 116.44000244140625, 'Close': 119.48999786376953, 'Adj Close': 119.31170654296875, 'Volume': 112295000, 'OHLC Average': 118.1875}, {'Date': Timestamp('2020-11-12 00:00:00'), 'Open': 119.62000274658203, 'High': 120.52999877929688, 'Low': 118.56999969482422, 'Close': 119.20999908447266, 'Adj Close': 119.0321273803711, 'Volume': 103162300, 'OHLC Average': 119.48250007629395}, {'Date': Timestamp('2020-11-13 00:00:00'), 'Open': 119.44000244140625, 'High': 119.66999816894531, 'Low': 117.87000274658203, 'Close': 119.26000213623047, 'Adj Close': 119.0820541381836, 'Volume': 81581900, 'OHLC Average': 119.06000137329102}, {'Date': Timestamp('2020-11-16 00:00:00'), 'Open': 118.91999816894531, 'High': 120.98999786376953, 'Low': 118.1500015258789, 'Close': 120.30000305175781, 'Adj Close': 120.1205062866211, 'Volume': 91183000, 'OHLC Average': 119.59000015258789}, {'Date': Timestamp('2020-11-17 00:00:00'), 'Open': 119.55000305175781, 'High': 120.66999816894531, 'Low': 118.95999908447266, 'Close': 119.38999938964844, 'Adj Close': 119.21186065673828, 'Volume': 74271000, 'OHLC Average': 119.64249992370605}, {'Date': Timestamp('2020-11-18 00:00:00'), 'Open': 118.61000061035156, 'High': 119.81999969482422, 'Low': 118.0, 'Close': 118.02999877929688, 'Adj Close': 117.85388946533203, 'Volume': 76322100, 'OHLC Average': 118.61499977111816}, {'Date': Timestamp('2020-11-19 00:00:00'), 'Open': 117.58999633789062, 'High': 119.05999755859375, 'Low': 116.80999755859375, 'Close': 118.63999938964844, 'Adj Close': 118.46298217773438, 'Volume': 74113000, 'OHLC Average': 118.02499771118164}, {'Date': Timestamp('2020-11-20 00:00:00'), 'Open': 118.63999938964844, 'High': 118.7699966430664, 'Low': 117.29000091552734, 'Close': 117.33999633789062, 'Adj Close': 117.1649169921875, 'Volume': 73604300, 'OHLC Average': 118.0099983215332}, {'Date': Timestamp('2020-11-23 00:00:00'), 'Open': 117.18000030517578, 'High': 117.62000274658203, 'Low': 113.75, 'Close': 113.8499984741211, 'Adj Close': 113.68012237548828, 'Volume': 127959300, 'OHLC Average': 115.60000038146973}, {'Date': Timestamp('2020-11-24 00:00:00'), 'Open': 113.91000366210938, 'High': 115.8499984741211, 'Low': 112.58999633789062, 'Close': 115.16999816894531, 'Adj Close': 114.99815368652344, 'Volume': 113874200, 'OHLC Average': 114.3799991607666}, {'Date': Timestamp('2020-11-25 00:00:00'), 'Open': 115.55000305175781, 'High': 116.75, 'Low': 115.16999816894531, 'Close': 116.02999877929688, 'Adj Close': 115.85687255859375, 'Volume': 76499200, 'OHLC Average': 115.875}, {'Date': Timestamp('2020-11-27 00:00:00'), 'Open': 116.56999969482422, 'High': 117.48999786376953, 'Low': 116.22000122070312, 'Close': 116.58999633789062, 'Adj Close': 116.41603088378906, 'Volume': 46691300, 'OHLC Average': 116.71749877929688}, {'Date': Timestamp('2020-11-30 00:00:00'), 'Open': 116.97000122070312, 'High': 120.97000122070312, 'Low': 116.80999755859375, 'Close': 119.05000305175781, 'Adj Close': 118.87236785888672, 'Volume': 169410200, 'OHLC Average': 118.45000076293945}, {'Date': Timestamp('2020-12-01 00:00:00'), 'Open': 121.01000213623047, 'High': 123.47000122070312, 'Low': 120.01000213623047, 'Close': 122.72000122070312, 'Adj Close': 122.53689575195312, 'Volume': 128166800, 'OHLC Average': 121.8025016784668}, {'Date': Timestamp('2020-12-02 00:00:00'), 'Open': 122.0199966430664, 'High': 123.37000274658203, 'Low': 120.88999938964844, 'Close': 123.08000183105469, 'Adj Close': 122.89635467529297, 'Volume': 89004200, 'OHLC Average': 122.34000015258789}, {'Date': Timestamp('2020-12-03 00:00:00'), 'Open': 123.5199966430664, 'High': 123.77999877929688, 'Low': 122.20999908447266, 'Close': 122.94000244140625, 'Adj Close': 122.7565689086914, 'Volume': 78967600, 'OHLC Average': 123.11249923706055}, {'Date': Timestamp('2020-12-04 00:00:00'), 'Open': 122.5999984741211, 'High': 122.86000061035156, 'Low': 121.5199966430664, 'Close': 122.25, 'Adj Close': 122.06759643554688, 'Volume': 78260400, 'OHLC Average': 122.30749893188477}, {'Date': Timestamp('2020-12-07 00:00:00'), 'Open': 122.30999755859375, 'High': 124.56999969482422, 'Low': 122.25, 'Close': 123.75, 'Adj Close': 123.56535339355469, 'Volume': 86712000, 'OHLC Average': 123.21999931335449}, {'Date': Timestamp('2020-12-08 00:00:00'), 'Open': 124.37000274658203, 'High': 124.9800033569336, 'Low': 123.08999633789062, 'Close': 124.37999725341797, 'Adj Close': 124.19441223144531, 'Volume': 82225500, 'OHLC Average': 124.20499992370605}, {'Date': Timestamp('2020-12-09 00:00:00'), 'Open': 124.52999877929688, 'High': 125.94999694824219, 'Low': 121.0, 'Close': 121.77999877929688, 'Adj Close': 121.5982894897461, 'Volume': 115089200, 'OHLC Average': 123.31499862670898}, {'Date': Timestamp('2020-12-10 00:00:00'), 'Open': 120.5, 'High': 123.87000274658203, 'Low': 120.1500015258789, 'Close': 123.23999786376953, 'Adj Close': 123.05611419677734, 'Volume': 81312200, 'OHLC Average': 121.94000053405762}, {'Date': Timestamp('2020-12-11 00:00:00'), 'Open': 122.43000030517578, 'High': 122.76000213623047, 'Low': 120.55000305175781, 'Close': 122.41000366210938, 'Adj Close': 122.22735595703125, 'Volume': 86939800, 'OHLC Average': 122.03750228881836}, {'Date': Timestamp('2020-12-14 00:00:00'), 'Open': 122.5999984741211, 'High': 123.3499984741211, 'Low': 121.54000091552734, 'Close': 121.77999877929688, 'Adj Close': 121.5982894897461, 'Volume': 79184500, 'OHLC Average': 122.3174991607666}, {'Date': Timestamp('2020-12-15 00:00:00'), 'Open': 124.33999633789062, 'High': 127.9000015258789, 'Low': 124.12999725341797, 'Close': 127.87999725341797, 'Adj Close': 127.6891860961914, 'Volume': 157572300, 'OHLC Average': 126.06249809265137}, {'Date': Timestamp('2020-12-16 00:00:00'), 'Open': 127.41000366210938, 'High': 128.3699951171875, 'Low': 126.55999755859375, 'Close': 127.80999755859375, 'Adj Close': 127.61929321289062, 'Volume': 98208600, 'OHLC Average': 127.5374984741211}, {'Date': Timestamp('2020-12-17 00:00:00'), 'Open': 128.89999389648438, 'High': 129.5800018310547, 'Low': 128.0399932861328, 'Close': 128.6999969482422, 'Adj Close': 128.50796508789062, 'Volume': 94359800, 'OHLC Average': 128.80499649047852}, {'Date': Timestamp('2020-12-18 00:00:00'), 'Open': 128.9600067138672, 'High': 129.10000610351562, 'Low': 126.12000274658203, 'Close': 126.66000366210938, 'Adj Close': 126.47101593017578, 'Volume': 192541500, 'OHLC Average': 127.71000480651855}, {'Date': Timestamp('2020-12-21 00:00:00'), 'Open': 125.0199966430664, 'High': 128.30999755859375, 'Low': 123.44999694824219, 'Close': 128.22999572753906, 'Adj Close': 128.03866577148438, 'Volume': 121251600, 'OHLC Average': 126.25249671936035}, {'Date': Timestamp('2020-12-22 00:00:00'), 'Open': 131.61000061035156, 'High': 134.41000366210938, 'Low': 129.64999389648438, 'Close': 131.8800048828125, 'Adj Close': 131.6832275390625, 'Volume': 168904800, 'OHLC Average': 131.88750076293945}, {'Date': Timestamp('2020-12-23 00:00:00'), 'Open': 132.16000366210938, 'High': 132.42999267578125, 'Low': 130.77999877929688, 'Close': 130.9600067138672, 'Adj Close': 130.7646026611328, 'Volume': 88223700, 'OHLC Average': 131.58250045776367}, {'Date': Timestamp('2020-12-24 00:00:00'), 'Open': 131.32000732421875, 'High': 133.4600067138672, 'Low': 131.10000610351562, 'Close': 131.97000122070312, 'Adj Close': 131.77308654785156, 'Volume': 54930100, 'OHLC Average': 131.96250534057617}, {'Date': Timestamp('2020-12-28 00:00:00'), 'Open': 133.99000549316406, 'High': 137.33999633789062, 'Low': 133.50999450683594, 'Close': 136.69000244140625, 'Adj Close': 136.48605346679688, 'Volume': 124486200, 'OHLC Average': 135.38249969482422}, {'Date': Timestamp('2020-12-29 00:00:00'), 'Open': 138.0500030517578, 'High': 138.7899932861328, 'Low': 134.33999633789062, 'Close': 134.8699951171875, 'Adj Close': 134.66876220703125, 'Volume': 121047300, 'OHLC Average': 136.5124969482422}, {'Date': Timestamp('2020-12-30 00:00:00'), 'Open': 135.5800018310547, 'High': 135.99000549316406, 'Low': 133.39999389648438, 'Close': 133.72000122070312, 'Adj Close': 133.52047729492188, 'Volume': 96452100, 'OHLC Average': 134.67250061035156}, {'Date': Timestamp('2020-12-31 00:00:00'), 'Open': 134.0800018310547, 'High': 134.74000549316406, 'Low': 131.72000122070312, 'Close': 132.69000244140625, 'Adj Close': 132.4920196533203, 'Volume': 98990400, 'OHLC Average': 133.30750274658203}, {'Date': Timestamp('2021-01-04 00:00:00'), 'Open': 133.52000427246094, 'High': 133.61000061035156, 'Low': 126.76000213623047, 'Close': 129.41000366210938, 'Adj Close': 129.2169189453125, 'Volume': 143301900, 'OHLC Average': 130.8250026702881}, {'Date': Timestamp('2021-01-05 00:00:00'), 'Open': 128.88999938964844, 'High': 131.74000549316406, 'Low': 128.42999267578125, 'Close': 131.00999450683594, 'Adj Close': 130.81451416015625, 'Volume': 97664900, 'OHLC Average': 130.01749801635742}, {'Date': Timestamp('2021-01-06 00:00:00'), 'Open': 127.72000122070312, 'High': 131.0500030517578, 'Low': 126.37999725341797, 'Close': 126.5999984741211, 'Adj Close': 126.41110229492188, 'Volume': 155088000, 'OHLC Average': 127.9375}, {'Date': Timestamp('2021-01-07 00:00:00'), 'Open': 128.36000061035156, 'High': 131.6300048828125, 'Low': 127.86000061035156, 'Close': 130.9199981689453, 'Adj Close': 130.7246551513672, 'Volume': 109578200, 'OHLC Average': 129.69250106811523}, {'Date': Timestamp('2021-01-08 00:00:00'), 'Open': 132.42999267578125, 'High': 132.6300048828125, 'Low': 130.22999572753906, 'Close': 132.0500030517578, 'Adj Close': 131.85296630859375, 'Volume': 104965400, 'OHLC Average': 131.83499908447266}, {'Date': Timestamp('2021-01-11 00:00:00'), 'Open': 129.19000244140625, 'High': 130.1699981689453, 'Low': 128.5, 'Close': 128.97999572753906, 'Adj Close': 128.7875518798828, 'Volume': 100620900, 'OHLC Average': 129.20999908447266}, {'Date': Timestamp('2021-01-12 00:00:00'), 'Open': 128.5, 'High': 129.69000244140625, 'Low': 126.86000061035156, 'Close': 128.8000030517578, 'Adj Close': 128.60781860351562, 'Volume': 91951100, 'OHLC Average': 128.4625015258789}, {'Date': Timestamp('2021-01-13 00:00:00'), 'Open': 128.75999450683594, 'High': 131.4499969482422, 'Low': 128.49000549316406, 'Close': 130.88999938964844, 'Adj Close': 130.6947021484375, 'Volume': 88636800, 'OHLC Average': 129.89749908447266}, {'Date': Timestamp('2021-01-14 00:00:00'), 'Open': 130.8000030517578, 'High': 131.0, 'Low': 128.75999450683594, 'Close': 128.91000366210938, 'Adj Close': 128.71766662597656, 'Volume': 90221800, 'OHLC Average': 129.86750030517578}, {'Date': Timestamp('2021-01-15 00:00:00'), 'Open': 128.77999877929688, 'High': 130.22000122070312, 'Low': 127.0, 'Close': 127.13999938964844, 'Adj Close': 126.9502944946289, 'Volume': 111235300, 'OHLC Average': 128.2849998474121}, {'Date': Timestamp('2021-01-19 00:00:00'), 'Open': 127.77999877929688, 'High': 128.7100067138672, 'Low': 126.94000244140625, 'Close': 127.83000183105469, 'Adj Close': 127.63926696777344, 'Volume': 90757300, 'OHLC Average': 127.81500244140625}, {'Date': Timestamp('2021-01-20 00:00:00'), 'Open': 128.66000366210938, 'High': 132.49000549316406, 'Low': 128.5500030517578, 'Close': 132.02999877929688, 'Adj Close': 131.83299255371094, 'Volume': 104319500, 'OHLC Average': 130.43250274658203}, {'Date': Timestamp('2021-01-21 00:00:00'), 'Open': 133.8000030517578, 'High': 139.6699981689453, 'Low': 133.58999633789062, 'Close': 136.8699951171875, 'Adj Close': 136.665771484375, 'Volume': 120529500, 'OHLC Average': 135.9824981689453}, {'Date': Timestamp('2021-01-22 00:00:00'), 'Open': 136.27999877929688, 'High': 139.85000610351562, 'Low': 135.02000427246094, 'Close': 139.07000732421875, 'Adj Close': 138.8625030517578, 'Volume': 113907200, 'OHLC Average': 137.55500411987305}, {'Date': Timestamp('2021-01-25 00:00:00'), 'Open': 143.07000732421875, 'High': 145.08999633789062, 'Low': 136.5399932861328, 'Close': 142.9199981689453, 'Adj Close': 142.70675659179688, 'Volume': 157611700, 'OHLC Average': 141.90499877929688}, {'Date': Timestamp('2021-01-26 00:00:00'), 'Open': 143.60000610351562, 'High': 144.3000030517578, 'Low': 141.3699951171875, 'Close': 143.16000366210938, 'Adj Close': 142.94639587402344, 'Volume': 98390600, 'OHLC Average': 143.10750198364258}, {'Date': Timestamp('2021-01-27 00:00:00'), 'Open': 143.42999267578125, 'High': 144.3000030517578, 'Low': 140.41000366210938, 'Close': 142.05999755859375, 'Adj Close': 141.84803771972656, 'Volume': 140843800, 'OHLC Average': 142.54999923706055}, {'Date': Timestamp('2021-01-28 00:00:00'), 'Open': 139.52000427246094, 'High': 141.99000549316406, 'Low': 136.6999969482422, 'Close': 137.08999633789062, 'Adj Close': 136.8854522705078, 'Volume': 142621100, 'OHLC Average': 138.82500076293945}, {'Date': Timestamp('2021-01-29 00:00:00'), 'Open': 135.8300018310547, 'High': 136.74000549316406, 'Low': 130.2100067138672, 'Close': 131.9600067138672, 'Adj Close': 131.7631072998047, 'Volume': 177180600, 'OHLC Average': 133.68500518798828}, {'Date': Timestamp('2021-02-01 00:00:00'), 'Open': 133.75, 'High': 135.3800048828125, 'Low': 130.92999267578125, 'Close': 134.13999938964844, 'Adj Close': 133.93984985351562, 'Volume': 106239800, 'OHLC Average': 133.54999923706055}, {'Date': Timestamp('2021-02-02 00:00:00'), 'Open': 135.72999572753906, 'High': 136.30999755859375, 'Low': 134.61000061035156, 'Close': 134.99000549316406, 'Adj Close': 134.78858947753906, 'Volume': 83305400, 'OHLC Average': 135.4099998474121}, {'Date': Timestamp('2021-02-03 00:00:00'), 'Open': 135.75999450683594, 'High': 135.77000427246094, 'Low': 133.61000061035156, 'Close': 133.94000244140625, 'Adj Close': 133.7401580810547, 'Volume': 89880900, 'OHLC Average': 134.77000045776367}, {'Date': Timestamp('2021-02-04 00:00:00'), 'Open': 136.3000030517578, 'High': 137.39999389648438, 'Low': 134.58999633789062, 'Close': 137.38999938964844, 'Adj Close': 137.18499755859375, 'Volume': 84183100, 'OHLC Average': 136.4199981689453}, {'Date': Timestamp('2021-02-05 00:00:00'), 'Open': 137.35000610351562, 'High': 137.4199981689453, 'Low': 135.86000061035156, 'Close': 136.75999450683594, 'Adj Close': 136.75999450683594, 'Volume': 75524000, 'OHLC Average': 136.8474998474121}, {'Date': Timestamp('2021-02-08 00:00:00'), 'Open': 136.02999877929688, 'High': 136.9600067138672, 'Low': 134.9199981689453, 'Close': 136.91000366210938, 'Adj Close': 136.91000366210938, 'Volume': 71297200, 'OHLC Average': 136.2050018310547}, {'Date': Timestamp('2021-02-09 00:00:00'), 'Open': 136.6199951171875, 'High': 137.8769989013672, 'Low': 135.85000610351562, 'Close': 136.00999450683594, 'Adj Close': 136.00999450683594, 'Volume': 76774213, 'OHLC Average': 136.58924865722656}]\n"
     ]
    }
   ],
   "source": [
    "print(stock.get_data())"
   ]
  }
 ]
}