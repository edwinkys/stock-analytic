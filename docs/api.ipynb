{
 "metadata": {
  "language_info": {
   "codemirror_mode": {
    "name": "ipython",
    "version": 3
   },
   "file_extension": ".py",
   "mimetype": "text/x-python",
   "name": "python",
   "nbconvert_exporter": "python",
   "pygments_lexer": "ipython3",
   "version": "3.9.0-final"
  },
  "orig_nbformat": 2,
  "kernelspec": {
   "name": "python3",
   "display_name": "Python 3",
   "language": "python"
  }
 },
 "nbformat": 4,
 "nbformat_minor": 2,
 "cells": [
  {
   "source": [
    "# Interial API\n",
    "This notebook is to develop functions and classes for Interial back end API."
   ],
   "cell_type": "markdown",
   "metadata": {}
  },
  {
   "cell_type": "code",
   "execution_count": 141,
   "metadata": {},
   "outputs": [],
   "source": [
    "# Import libraries\n",
    "import yfinance as yf\n",
    "import pandas as pd\n",
    "\n",
    "from sklearn.linear_model import LinearRegression"
   ]
  },
  {
   "cell_type": "code",
   "execution_count": 166,
   "metadata": {},
   "outputs": [],
   "source": [
    "class Stock():\n",
    "    '''\n",
    "\n",
    "    This class is to gather information and data about a certain stock.\n",
    "\n",
    "    methods:\n",
    "    - get_info\n",
    "    - get_holders\n",
    "    - get_calendar\n",
    "    - get_data\n",
    "\n",
    "    '''\n",
    "\n",
    "    def __init__(self, symbol):\n",
    "        self.symbol = symbol\n",
    "        self.stock = yf.Ticker(symbol)\n",
    "\n",
    "    def __create_trendline(self, x, y, x_predict):\n",
    "        '''\n",
    "\n",
    "        Create trendline from the data.\n",
    "\n",
    "        @param x: Pandas series of datetime like pd.to_datetime(stock_data['Date']).values.astype(float).reshape(-1, 1).\n",
    "        @param y: Pandas dataframe of price.\n",
    "        @param x_predict: Pandas series of datetime to predict.\n",
    "\n",
    "        return: Numpy array of predicted y based on x.\n",
    "\n",
    "        '''\n",
    "\n",
    "        reg = LinearRegression()\n",
    "\n",
    "        model = reg.fit(x, y)\n",
    "\n",
    "        prediction = model.predict(x_predict).ravel()\n",
    "\n",
    "        return prediction\n",
    "\n",
    "    def __calculate_average(self, df, column):\n",
    "        '''\n",
    "\n",
    "        Calculate the average overall value of a stock data or column, excluding Date.\n",
    "\n",
    "        @param df: Pandas dataframe of the data.\n",
    "        @param column: String of the column name.\n",
    "\n",
    "        return: Average value.\n",
    "\n",
    "        '''\n",
    "\n",
    "        return df[column].mean()\n",
    "\n",
    "    def __get_stock_data(self, period='3mo', interval='1d', date_range=[]):\n",
    "        '''\n",
    "\n",
    "        Get the stock price based on date.\n",
    "\n",
    "        @param period: The period of the stock data (1d, 5d, 1mo, 3mo, 6mo, 1y, 2y, 5y, 10y, ytd, max).\n",
    "        @param interval: The interval per data (1m, 2m, 5m, 15m, 30m, 60m, 90m, 1h, 1d, 5d, 1wk, 1mo, 3mo).\n",
    "        @param date_range: Array of range of string date like ['2020-01-01', '2020-12-31'].\n",
    "\n",
    "        return: Dataframe of stock data\n",
    "\n",
    "        '''\n",
    "\n",
    "        if date_range:\n",
    "            stock_data = yf.download(\n",
    "                tickers=self.symbol,\n",
    "                start=date_range[0],\n",
    "                end=date_range[1],\n",
    "                prepost=True\n",
    "            )\n",
    "        else:\n",
    "            stock_data = yf.download(\n",
    "                tickers=self.symbol,\n",
    "                period=period,\n",
    "                interval=interval,\n",
    "                prepost=True\n",
    "            )\n",
    "\n",
    "        return stock_data\n",
    "\n",
    "    def get_info(self, datapoints=None):\n",
    "        '''\n",
    "\n",
    "        Get summary of the stock.\n",
    "\n",
    "        @param datapoints: Array of datapoints to be returned.\n",
    "\n",
    "        return: Dictionary containing the summary.\n",
    "\n",
    "        '''\n",
    "\n",
    "        if datapoints:\n",
    "            return {key: value for key, value in self.stock.info.items() if key in datapoints}\n",
    "        else:\n",
    "            return self.stock.info\n",
    "\n",
    "    def get_holders(self, n_result=None):\n",
    "        '''\n",
    "\n",
    "        Get the shareholders of the company.\n",
    "\n",
    "        @param n_result: int to return some of the shareholders, max: 10.\n",
    "\n",
    "        return: Dictionary of shareholders.\n",
    "\n",
    "        '''\n",
    "\n",
    "        shareholders = self.stock.institutional_holders\n",
    "\n",
    "        shareholders = shareholders.to_dict('index')\n",
    "\n",
    "        if n_result:\n",
    "            return dict(list(shareholders.items())[:n_result])\n",
    "        else:\n",
    "            return shareholders\n",
    "\n",
    "    def get_calendar(self):\n",
    "        '''\n",
    "\n",
    "        Get the update from the latest schedule.\n",
    "\n",
    "        return: Dictionary of the update.\n",
    "\n",
    "        '''\n",
    "\n",
    "        update = self.stock.calendar.to_dict().get('Value')\n",
    "\n",
    "        return update\n",
    "\n",
    "    def get_data(self, period='3mo', interval='1d', date_range=None, trendline=None, average=None):\n",
    "        '''\n",
    "\n",
    "        Get the share price of the company.\n",
    "\n",
    "        @param period: The period of the stock data (1d, 5d, 1mo, 3mo, 6mo, 1y, 2y, 5y, 10y, ytd, max).\n",
    "        @param interval: The interval per data (1m, 2m, 5m, 15m, 30m, 60m, 90m, 1h, 1d, 5d, 1wk, 1mo, 3mo).\n",
    "        @param date_range: Array of range of string date like ['2020-01-01', '2020-12-31'].\n",
    "        @param trendline: String of the name of the column as y for training except for Date.\n",
    "        @param average: String of the name of the column to get the average of (excluding Date).\n",
    "\n",
    "        return: list of the stock data\n",
    "\n",
    "        '''\n",
    "\n",
    "        date_column = 'Date'\n",
    "        ts_format = '%b %d, %Y'\n",
    "\n",
    "        if interval in ['1m', '2m', '5m', '15m', '30m', '60m', '90m', '1h']:\n",
    "            date_column = 'Datetime'\n",
    "            ts_format = '%a %d at %H:%M'\n",
    "\n",
    "        stock_data = self.__get_stock_data(period, interval, date_range)\n",
    "\n",
    "        # Enabling access to Date\n",
    "        stock_data = stock_data.reset_index()\n",
    "\n",
    "        # Datetime\n",
    "        stock_data['Time'] = [ts.strftime(ts_format) for i, ts in stock_data[date_column].iteritems()]\n",
    "        stock_data['Index'] = [i + 1 for i, ts in stock_data[date_column].iteritems()]\n",
    "\n",
    "        if trendline:\n",
    "            temp_stock_data = stock_data\n",
    "\n",
    "            if temp_stock_data.isnull().values.any():\n",
    "                temp_stock_data = temp_stock_data.dropna()\n",
    "\n",
    "\n",
    "            x = temp_stock_data[['Index']]\n",
    "            x_predict = stock_data[['Index']]\n",
    "            # x = pd.to_datetime(temp_stock_data[date_column]).values.astype(float).reshape(-1, 1)\n",
    "            # x_predict = pd.to_datetime(stock_data[date_column]).values.astype(float).reshape(-1, 1)\n",
    "\n",
    "            y = temp_stock_data[[trendline]]\n",
    "\n",
    "            pred = self.__create_trendline(x, y, x_predict)\n",
    "\n",
    "            column_name = trendline + ' Prediction'\n",
    "            stock_data[column_name] = pd.Series(pred)\n",
    "\n",
    "        if average:\n",
    "            mean_value = self.__calculate_average(stock_data, average)\n",
    "\n",
    "            mean_name = average + ' Mean'\n",
    "            stock_data[mean_name] = [mean_value for i in range(len(stock_data))]\n",
    "\n",
    "        # Remove date or datetime column\n",
    "        columns_to_keep = ['Close', 'Time', 'Close Prediction', 'Close Mean']\n",
    "        stock_data.drop(stock_data.columns.difference(columns_to_keep), 1, inplace=True)\n",
    "\n",
    "        # Remove NaN value\n",
    "        stock_data.dropna(inplace=True)\n",
    "\n",
    "        return stock_data.to_dict('records')\n"
   ]
  },
  {
   "source": [
    "## Testing\n",
    "The script below is used to test the functionality of the class."
   ],
   "cell_type": "markdown",
   "metadata": {}
  },
  {
   "cell_type": "code",
   "execution_count": 167,
   "metadata": {},
   "outputs": [],
   "source": [
    "stock = Stock('AAPL')"
   ]
  },
  {
   "cell_type": "code",
   "execution_count": 168,
   "metadata": {},
   "outputs": [
    {
     "output_type": "stream",
     "name": "stdout",
     "text": [
      "{'zip': '95014', 'sector': 'Technology', 'fullTimeEmployees': 147000, 'longBusinessSummary': 'Apple Inc. designs, manufactures, and markets smartphones, personal computers, tablets, wearables, and accessories worldwide. It also sells various related services. The company offers iPhone, a line of smartphones; Mac, a line of personal computers; iPad, a line of multi-purpose tablets; and wearables, home, and accessories comprising AirPods, Apple TV, Apple Watch, Beats products, HomePod, iPod touch, and other Apple-branded and third-party accessories. It also provides AppleCare support services; cloud services store services; and operates various platforms, including the App Store, that allow customers to discover and download applications and digital content, such as books, music, video, games, and podcasts. In addition, the company offers various services, such as Apple Arcade, a game subscription service; Apple Music, which offers users a curated listening experience with on-demand radio stations; Apple News+, a subscription news and magazine service; Apple TV+, which offers exclusive original content; Apple Card, a co-branded credit card; and Apple Pay, a cashless payment service, as well as licenses its intellectual property. The company serves consumers, and small and mid-sized businesses; and the education, enterprise, and government markets. It sells and delivers third-party applications for its products through the App Store. The company also sells its products through its retail and online stores, and direct sales force; and third-party cellular network carriers, wholesalers, retailers, and resellers. Apple Inc. was founded in 1977 and is headquartered in Cupertino, California.', 'city': 'Cupertino', 'phone': '408-996-1010', 'state': 'CA', 'country': 'United States', 'companyOfficers': [], 'website': 'http://www.apple.com', 'maxAge': 1, 'address1': 'One Apple Park Way', 'industry': 'Consumer Electronics', 'previousClose': 129.71, 'regularMarketOpen': 130.24, 'twoHundredDayAverage': 122.3917, 'trailingAnnualDividendYield': 0.0062215705, 'payoutRatio': 0.2177, 'volume24Hr': None, 'regularMarketDayHigh': 130.71, 'navPrice': None, 'averageDailyVolume10Day': 81080400, 'totalAssets': None, 'regularMarketPreviousClose': 129.71, 'fiftyDayAverage': 133.55576, 'trailingAnnualDividendRate': 0.807, 'open': 130.24, 'toCurrency': None, 'averageVolume10days': 81080400, 'expireDate': None, 'yield': None, 'algorithm': None, 'dividendRate': 0.82, 'exDividendDate': 1612483200, 'beta': 1.267876, 'circulatingSupply': None, 'startDate': None, 'regularMarketDayLow': 128.8, 'priceHint': 2, 'currency': 'USD', 'trailingPE': 35.22376, 'regularMarketVolume': 87668834, 'lastMarket': None, 'maxSupply': None, 'openInterest': None, 'marketCap': 2180270522368, 'volumeAllCurrencies': None, 'strikePrice': None, 'averageVolume': 104077640, 'priceToSalesTrailing12Months': 7.4124823, 'dayLow': 128.8, 'ask': 129.74, 'ytdReturn': None, 'askSize': 800, 'volume': 87668834, 'fiftyTwoWeekHigh': 145.09, 'forwardPE': 27.75, 'fromCurrency': None, 'fiveYearAvgDividendYield': 1.44, 'fiftyTwoWeekLow': 53.1525, 'bid': 129.64, 'tradeable': False, 'dividendYield': 0.0063, 'bidSize': 1200, 'dayHigh': 130.71, 'exchange': 'NMS', 'shortName': 'Apple Inc.', 'longName': 'Apple Inc.', 'exchangeTimezoneName': 'America/New_York', 'exchangeTimezoneShortName': 'EST', 'isEsgPopulated': False, 'gmtOffSetMilliseconds': '-18000000', 'quoteType': 'EQUITY', 'symbol': 'AAPL', 'messageBoardId': 'finmb_24937', 'market': 'us_market', 'annualHoldingsTurnover': None, 'enterpriseToRevenue': 7.532, 'beta3Year': None, 'profitMargins': 0.21735, 'enterpriseToEbitda': 26.016, '52WeekChange': 0.74216914, 'morningStarRiskRating': None, 'forwardEps': 4.68, 'revenueQuarterlyGrowth': None, 'sharesOutstanding': 16788100096, 'fundInceptionDate': None, 'annualReportExpenseRatio': None, 'bookValue': 3.936, 'sharesShort': 91862600, 'sharesPercentSharesOut': 0.0055, 'fundFamily': None, 'lastFiscalYearEnd': 1601078400, 'heldPercentInstitutions': 0.59661996, 'netIncomeToCommon': 63929999360, 'trailingEps': 3.687, 'lastDividendValue': 0.205, 'SandP52WeekChange': 0.1675049, 'priceToBook': 32.995426, 'heldPercentInsiders': 0.00065, 'nextFiscalYearEnd': 1664150400, 'mostRecentQuarter': 1608940800, 'shortRatio': 0.79, 'sharesShortPreviousMonthDate': 1609372800, 'floatShares': 16770804261, 'enterpriseValue': 2215486947328, 'threeYearAverageReturn': None, 'lastSplitDate': 1598832000, 'lastSplitFactor': '4:1', 'legalType': None, 'lastDividendDate': 1612483200, 'morningStarOverallRating': None, 'earningsQuarterlyGrowth': 0.293, 'dateShortInterest': 1611878400, 'pegRatio': 2.02, 'lastCapGain': None, 'shortPercentOfFloat': 0.0055, 'sharesShortPriorMonth': 91091816, 'impliedSharesOutstanding': None, 'category': None, 'fiveYearAverageReturn': None, 'regularMarketPrice': 130.24, 'logo_url': 'https://logo.clearbit.com/apple.com'}\n"
     ]
    }
   ],
   "source": [
    "print(stock.get_info())"
   ]
  },
  {
   "cell_type": "code",
   "execution_count": 169,
   "metadata": {},
   "outputs": [
    {
     "output_type": "stream",
     "name": "stdout",
     "text": [
      "{0: {'Holder': 'Vanguard Group, Inc. (The)', 'Shares': 1280669129, 'Date Reported': Timestamp('2020-09-29 00:00:00'), '% Out': 0.07629999999999999, 'Value': 148314291829}, 1: {'Holder': 'Blackrock Inc.', 'Shares': 1056461286, 'Date Reported': Timestamp('2020-12-30 00:00:00'), '% Out': 0.0629, 'Value': 140181848039}, 2: {'Holder': 'Berkshire Hathaway, Inc', 'Shares': 944295554, 'Date Reported': Timestamp('2020-09-29 00:00:00'), '% Out': 0.0562, 'Value': 109358868108}, 3: {'Holder': 'State Street Corporation', 'Shares': 672444836, 'Date Reported': Timestamp('2020-09-29 00:00:00'), '% Out': 0.0401, 'Value': 77875836457}, 4: {'Holder': 'FMR, LLC', 'Shares': 358551697, 'Date Reported': Timestamp('2020-12-30 00:00:00'), '% Out': 0.021400000000000002, 'Value': 47576224674}, 5: {'Holder': 'Geode Capital Management, LLC', 'Shares': 247838449, 'Date Reported': Timestamp('2020-09-29 00:00:00'), '% Out': 0.0148, 'Value': 28702170778}, 6: {'Holder': 'Price (T.Rowe) Associates Inc', 'Shares': 228869394, 'Date Reported': Timestamp('2020-09-29 00:00:00'), '% Out': 0.013600000000000001, 'Value': 26505364519}, 7: {'Holder': 'Northern Trust Corporation', 'Shares': 210830547, 'Date Reported': Timestamp('2020-09-29 00:00:00'), '% Out': 0.0126, 'Value': 24416285648}, 8: {'Holder': 'Bank Of New York Mellon Corporation', 'Shares': 157791038, 'Date Reported': Timestamp('2020-12-30 00:00:00'), '% Out': 0.009399999999999999, 'Value': 20937292832}, 9: {'Holder': 'Bank of America Corporation', 'Shares': 136551580, 'Date Reported': Timestamp('2020-12-30 00:00:00'), '% Out': 0.008100000000000001, 'Value': 18119029150}}\n"
     ]
    }
   ],
   "source": [
    "print(stock.get_holders())"
   ]
  },
  {
   "cell_type": "code",
   "execution_count": 170,
   "metadata": {},
   "outputs": [
    {
     "output_type": "stream",
     "name": "stdout",
     "text": [
      "None\n"
     ]
    }
   ],
   "source": [
    "print(stock.get_calendar())"
   ]
  },
  {
   "cell_type": "code",
   "execution_count": 171,
   "metadata": {},
   "outputs": [
    {
     "output_type": "stream",
     "name": "stdout",
     "text": [
      "[*********************100%***********************]  1 of 1 completed\n",
      "[{'Open': 118.63999938964844, 'High': 118.7699966430664, 'Low': 117.29000091552734, 'Close': 117.33999633789062, 'Adj Close': 117.1649169921875, 'Volume': 73604300, 'OHLC Average': 118.0099983215332, 'Time': '20201120000000'}, {'Open': 117.18000030517578, 'High': 117.62000274658203, 'Low': 113.75, 'Close': 113.8499984741211, 'Adj Close': 113.68012237548828, 'Volume': 127959300, 'OHLC Average': 115.60000038146973, 'Time': '20201123000000'}, {'Open': 113.91000366210938, 'High': 115.8499984741211, 'Low': 112.58999633789062, 'Close': 115.16999816894531, 'Adj Close': 114.99815368652344, 'Volume': 113874200, 'OHLC Average': 114.3799991607666, 'Time': '20201124000000'}, {'Open': 115.55000305175781, 'High': 116.75, 'Low': 115.16999816894531, 'Close': 116.02999877929688, 'Adj Close': 115.85687255859375, 'Volume': 76499200, 'OHLC Average': 115.875, 'Time': '20201125000000'}, {'Open': 116.56999969482422, 'High': 117.48999786376953, 'Low': 116.22000122070312, 'Close': 116.58999633789062, 'Adj Close': 116.41603088378906, 'Volume': 46691300, 'OHLC Average': 116.71749877929688, 'Time': '20201127000000'}, {'Open': 116.97000122070312, 'High': 120.97000122070312, 'Low': 116.80999755859375, 'Close': 119.05000305175781, 'Adj Close': 118.87236785888672, 'Volume': 169410200, 'OHLC Average': 118.45000076293945, 'Time': '20201130000000'}, {'Open': 121.01000213623047, 'High': 123.47000122070312, 'Low': 120.01000213623047, 'Close': 122.72000122070312, 'Adj Close': 122.53689575195312, 'Volume': 128166800, 'OHLC Average': 121.8025016784668, 'Time': '20201201000000'}, {'Open': 122.0199966430664, 'High': 123.37000274658203, 'Low': 120.88999938964844, 'Close': 123.08000183105469, 'Adj Close': 122.89635467529297, 'Volume': 89004200, 'OHLC Average': 122.34000015258789, 'Time': '20201202000000'}, {'Open': 123.5199966430664, 'High': 123.77999877929688, 'Low': 122.20999908447266, 'Close': 122.94000244140625, 'Adj Close': 122.7565689086914, 'Volume': 78967600, 'OHLC Average': 123.11249923706055, 'Time': '20201203000000'}, {'Open': 122.5999984741211, 'High': 122.86000061035156, 'Low': 121.5199966430664, 'Close': 122.25, 'Adj Close': 122.06759643554688, 'Volume': 78260400, 'OHLC Average': 122.30749893188477, 'Time': '20201204000000'}, {'Open': 122.30999755859375, 'High': 124.56999969482422, 'Low': 122.25, 'Close': 123.75, 'Adj Close': 123.56535339355469, 'Volume': 86712000, 'OHLC Average': 123.21999931335449, 'Time': '20201207000000'}, {'Open': 124.37000274658203, 'High': 124.9800033569336, 'Low': 123.08999633789062, 'Close': 124.37999725341797, 'Adj Close': 124.19441223144531, 'Volume': 82225500, 'OHLC Average': 124.20499992370605, 'Time': '20201208000000'}, {'Open': 124.52999877929688, 'High': 125.94999694824219, 'Low': 121.0, 'Close': 121.77999877929688, 'Adj Close': 121.5982894897461, 'Volume': 115089200, 'OHLC Average': 123.31499862670898, 'Time': '20201209000000'}, {'Open': 120.5, 'High': 123.87000274658203, 'Low': 120.1500015258789, 'Close': 123.23999786376953, 'Adj Close': 123.05611419677734, 'Volume': 81312200, 'OHLC Average': 121.94000053405762, 'Time': '20201210000000'}, {'Open': 122.43000030517578, 'High': 122.76000213623047, 'Low': 120.55000305175781, 'Close': 122.41000366210938, 'Adj Close': 122.22735595703125, 'Volume': 86939800, 'OHLC Average': 122.03750228881836, 'Time': '20201211000000'}, {'Open': 122.5999984741211, 'High': 123.3499984741211, 'Low': 121.54000091552734, 'Close': 121.77999877929688, 'Adj Close': 121.5982894897461, 'Volume': 79184500, 'OHLC Average': 122.3174991607666, 'Time': '20201214000000'}, {'Open': 124.33999633789062, 'High': 127.9000015258789, 'Low': 124.12999725341797, 'Close': 127.87999725341797, 'Adj Close': 127.6891860961914, 'Volume': 157572300, 'OHLC Average': 126.06249809265137, 'Time': '20201215000000'}, {'Open': 127.41000366210938, 'High': 128.3699951171875, 'Low': 126.55999755859375, 'Close': 127.80999755859375, 'Adj Close': 127.61929321289062, 'Volume': 98208600, 'OHLC Average': 127.5374984741211, 'Time': '20201216000000'}, {'Open': 128.89999389648438, 'High': 129.5800018310547, 'Low': 128.0399932861328, 'Close': 128.6999969482422, 'Adj Close': 128.50796508789062, 'Volume': 94359800, 'OHLC Average': 128.80499649047852, 'Time': '20201217000000'}, {'Open': 128.9600067138672, 'High': 129.10000610351562, 'Low': 126.12000274658203, 'Close': 126.66000366210938, 'Adj Close': 126.47101593017578, 'Volume': 192541500, 'OHLC Average': 127.71000480651855, 'Time': '20201218000000'}, {'Open': 125.0199966430664, 'High': 128.30999755859375, 'Low': 123.44999694824219, 'Close': 128.22999572753906, 'Adj Close': 128.03866577148438, 'Volume': 121251600, 'OHLC Average': 126.25249671936035, 'Time': '20201221000000'}, {'Open': 131.61000061035156, 'High': 134.41000366210938, 'Low': 129.64999389648438, 'Close': 131.8800048828125, 'Adj Close': 131.6832275390625, 'Volume': 168904800, 'OHLC Average': 131.88750076293945, 'Time': '20201222000000'}, {'Open': 132.16000366210938, 'High': 132.42999267578125, 'Low': 130.77999877929688, 'Close': 130.9600067138672, 'Adj Close': 130.7646026611328, 'Volume': 88223700, 'OHLC Average': 131.58250045776367, 'Time': '20201223000000'}, {'Open': 131.32000732421875, 'High': 133.4600067138672, 'Low': 131.10000610351562, 'Close': 131.97000122070312, 'Adj Close': 131.77308654785156, 'Volume': 54930100, 'OHLC Average': 131.96250534057617, 'Time': '20201224000000'}, {'Open': 133.99000549316406, 'High': 137.33999633789062, 'Low': 133.50999450683594, 'Close': 136.69000244140625, 'Adj Close': 136.48605346679688, 'Volume': 124486200, 'OHLC Average': 135.38249969482422, 'Time': '20201228000000'}, {'Open': 138.0500030517578, 'High': 138.7899932861328, 'Low': 134.33999633789062, 'Close': 134.8699951171875, 'Adj Close': 134.66876220703125, 'Volume': 121047300, 'OHLC Average': 136.5124969482422, 'Time': '20201229000000'}, {'Open': 135.5800018310547, 'High': 135.99000549316406, 'Low': 133.39999389648438, 'Close': 133.72000122070312, 'Adj Close': 133.52047729492188, 'Volume': 96452100, 'OHLC Average': 134.67250061035156, 'Time': '20201230000000'}, {'Open': 134.0800018310547, 'High': 134.74000549316406, 'Low': 131.72000122070312, 'Close': 132.69000244140625, 'Adj Close': 132.4920196533203, 'Volume': 99116600, 'OHLC Average': 133.30750274658203, 'Time': '20201231000000'}, {'Open': 133.52000427246094, 'High': 133.61000061035156, 'Low': 126.76000213623047, 'Close': 129.41000366210938, 'Adj Close': 129.2169189453125, 'Volume': 143301900, 'OHLC Average': 130.8250026702881, 'Time': '20210104000000'}, {'Open': 128.88999938964844, 'High': 131.74000549316406, 'Low': 128.42999267578125, 'Close': 131.00999450683594, 'Adj Close': 130.81451416015625, 'Volume': 97664900, 'OHLC Average': 130.01749801635742, 'Time': '20210105000000'}, {'Open': 127.72000122070312, 'High': 131.0500030517578, 'Low': 126.37999725341797, 'Close': 126.5999984741211, 'Adj Close': 126.41110229492188, 'Volume': 155088000, 'OHLC Average': 127.9375, 'Time': '20210106000000'}, {'Open': 128.36000061035156, 'High': 131.6300048828125, 'Low': 127.86000061035156, 'Close': 130.9199981689453, 'Adj Close': 130.7246551513672, 'Volume': 109578200, 'OHLC Average': 129.69250106811523, 'Time': '20210107000000'}, {'Open': 132.42999267578125, 'High': 132.6300048828125, 'Low': 130.22999572753906, 'Close': 132.0500030517578, 'Adj Close': 131.85296630859375, 'Volume': 105158200, 'OHLC Average': 131.83499908447266, 'Time': '20210108000000'}, {'Open': 129.19000244140625, 'High': 130.1699981689453, 'Low': 128.5, 'Close': 128.97999572753906, 'Adj Close': 128.7875518798828, 'Volume': 100620900, 'OHLC Average': 129.20999908447266, 'Time': '20210111000000'}, {'Open': 128.5, 'High': 129.69000244140625, 'Low': 126.86000061035156, 'Close': 128.8000030517578, 'Adj Close': 128.60781860351562, 'Volume': 91951100, 'OHLC Average': 128.4625015258789, 'Time': '20210112000000'}, {'Open': 128.75999450683594, 'High': 131.4499969482422, 'Low': 128.49000549316406, 'Close': 130.88999938964844, 'Adj Close': 130.6947021484375, 'Volume': 88636800, 'OHLC Average': 129.89749908447266, 'Time': '20210113000000'}, {'Open': 130.8000030517578, 'High': 131.0, 'Low': 128.75999450683594, 'Close': 128.91000366210938, 'Adj Close': 128.71766662597656, 'Volume': 90221800, 'OHLC Average': 129.86750030517578, 'Time': '20210114000000'}, {'Open': 128.77999877929688, 'High': 130.22000122070312, 'Low': 127.0, 'Close': 127.13999938964844, 'Adj Close': 126.9502944946289, 'Volume': 111598500, 'OHLC Average': 128.2849998474121, 'Time': '20210115000000'}, {'Open': 127.77999877929688, 'High': 128.7100067138672, 'Low': 126.94000244140625, 'Close': 127.83000183105469, 'Adj Close': 127.63926696777344, 'Volume': 90757300, 'OHLC Average': 127.81500244140625, 'Time': '20210119000000'}, {'Open': 128.66000366210938, 'High': 132.49000549316406, 'Low': 128.5500030517578, 'Close': 132.02999877929688, 'Adj Close': 131.83299255371094, 'Volume': 104319500, 'OHLC Average': 130.43250274658203, 'Time': '20210120000000'}, {'Open': 133.8000030517578, 'High': 139.6699981689453, 'Low': 133.58999633789062, 'Close': 136.8699951171875, 'Adj Close': 136.665771484375, 'Volume': 120529500, 'OHLC Average': 135.9824981689453, 'Time': '20210121000000'}, {'Open': 136.27999877929688, 'High': 139.85000610351562, 'Low': 135.02000427246094, 'Close': 139.07000732421875, 'Adj Close': 138.8625030517578, 'Volume': 114459400, 'OHLC Average': 137.55500411987305, 'Time': '20210122000000'}, {'Open': 143.07000732421875, 'High': 145.08999633789062, 'Low': 136.5399932861328, 'Close': 142.9199981689453, 'Adj Close': 142.70675659179688, 'Volume': 157611700, 'OHLC Average': 141.90499877929688, 'Time': '20210125000000'}, {'Open': 143.60000610351562, 'High': 144.3000030517578, 'Low': 141.3699951171875, 'Close': 143.16000366210938, 'Adj Close': 142.94639587402344, 'Volume': 98390600, 'OHLC Average': 143.10750198364258, 'Time': '20210126000000'}, {'Open': 143.42999267578125, 'High': 144.3000030517578, 'Low': 140.41000366210938, 'Close': 142.05999755859375, 'Adj Close': 141.84803771972656, 'Volume': 140843800, 'OHLC Average': 142.54999923706055, 'Time': '20210127000000'}, {'Open': 139.52000427246094, 'High': 141.99000549316406, 'Low': 136.6999969482422, 'Close': 137.08999633789062, 'Adj Close': 136.8854522705078, 'Volume': 142621100, 'OHLC Average': 138.82500076293945, 'Time': '20210128000000'}, {'Open': 135.8300018310547, 'High': 136.74000549316406, 'Low': 130.2100067138672, 'Close': 131.9600067138672, 'Adj Close': 131.7631072998047, 'Volume': 177180600, 'OHLC Average': 133.68500518798828, 'Time': '20210129000000'}, {'Open': 133.75, 'High': 135.3800048828125, 'Low': 130.92999267578125, 'Close': 134.13999938964844, 'Adj Close': 133.93984985351562, 'Volume': 106239800, 'OHLC Average': 133.54999923706055, 'Time': '20210201000000'}, {'Open': 135.72999572753906, 'High': 136.30999755859375, 'Low': 134.61000061035156, 'Close': 134.99000549316406, 'Adj Close': 134.78858947753906, 'Volume': 83305400, 'OHLC Average': 135.4099998474121, 'Time': '20210202000000'}, {'Open': 135.75999450683594, 'High': 135.77000427246094, 'Low': 133.61000061035156, 'Close': 133.94000244140625, 'Adj Close': 133.7401580810547, 'Volume': 89880900, 'OHLC Average': 134.77000045776367, 'Time': '20210203000000'}, {'Open': 136.3000030517578, 'High': 137.39999389648438, 'Low': 134.58999633789062, 'Close': 137.38999938964844, 'Adj Close': 137.18499755859375, 'Volume': 84183100, 'OHLC Average': 136.4199981689453, 'Time': '20210204000000'}, {'Open': 137.35000610351562, 'High': 137.4199981689453, 'Low': 135.86000061035156, 'Close': 136.75999450683594, 'Adj Close': 136.75999450683594, 'Volume': 75524000, 'OHLC Average': 136.8474998474121, 'Time': '20210205000000'}, {'Open': 136.02999877929688, 'High': 136.9600067138672, 'Low': 134.9199981689453, 'Close': 136.91000366210938, 'Adj Close': 136.91000366210938, 'Volume': 71297200, 'OHLC Average': 136.2050018310547, 'Time': '20210208000000'}, {'Open': 136.6199951171875, 'High': 137.8800048828125, 'Low': 135.85000610351562, 'Close': 136.00999450683594, 'Adj Close': 136.00999450683594, 'Volume': 76774200, 'OHLC Average': 136.5900001525879, 'Time': '20210209000000'}, {'Open': 136.47999572753906, 'High': 136.99000549316406, 'Low': 134.39999389648438, 'Close': 135.38999938964844, 'Adj Close': 135.38999938964844, 'Volume': 73046600, 'OHLC Average': 135.81499862670898, 'Time': '20210210000000'}, {'Open': 135.89999389648438, 'High': 136.38999938964844, 'Low': 133.77000427246094, 'Close': 135.1300048828125, 'Adj Close': 135.1300048828125, 'Volume': 64154400, 'OHLC Average': 135.29750061035156, 'Time': '20210211000000'}, {'Open': 134.35000610351562, 'High': 135.52999877929688, 'Low': 133.69000244140625, 'Close': 135.3699951171875, 'Adj Close': 135.3699951171875, 'Volume': 60029300, 'OHLC Average': 134.73500061035156, 'Time': '20210212000000'}, {'Open': 135.49000549316406, 'High': 136.00999450683594, 'Low': 132.7899932861328, 'Close': 133.19000244140625, 'Adj Close': 133.19000244140625, 'Volume': 80206200, 'OHLC Average': 134.36999893188477, 'Time': '20210216000000'}, {'Open': 131.25, 'High': 132.22000122070312, 'Low': 129.47000122070312, 'Close': 130.83999633789062, 'Adj Close': 130.83999633789062, 'Volume': 97918500, 'OHLC Average': 130.94499969482422, 'Time': '20210217000000'}, {'Open': 129.1999969482422, 'High': 130.0, 'Low': 127.41000366210938, 'Close': 129.7100067138672, 'Adj Close': 129.7100067138672, 'Volume': 96648100, 'OHLC Average': 129.0800018310547, 'Time': '20210218000000'}, {'Open': 130.24000549316406, 'High': 130.7100067138672, 'Low': 128.8000030517578, 'Close': 129.8699951171875, 'Adj Close': 129.8699951171875, 'Volume': 87525900, 'OHLC Average': 129.90500259399414, 'Time': '20210219000000'}]\n"
     ]
    }
   ],
   "source": [
    "print(stock.get_data())"
   ]
  }
 ]
}