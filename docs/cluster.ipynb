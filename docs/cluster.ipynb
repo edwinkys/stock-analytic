{
 "metadata": {
  "language_info": {
   "codemirror_mode": {
    "name": "ipython",
    "version": 3
   },
   "file_extension": ".py",
   "mimetype": "text/x-python",
   "name": "python",
   "nbconvert_exporter": "python",
   "pygments_lexer": "ipython3",
   "version": "3.9.0-final"
  },
  "orig_nbformat": 2,
  "kernelspec": {
   "name": "python3",
   "display_name": "Python 3.9.0 64-bit",
   "metadata": {
    "interpreter": {
     "hash": "d61ed362aa666647e884e856f8a6ce510649070e79e0263068f970fc17431b76"
    }
   }
  }
 },
 "nbformat": 4,
 "nbformat_minor": 2,
 "cells": [
  {
   "source": [
    "# Clustering\n",
    "This notebook is to demonstrate the function of gathering the data from the stock market and creating the clustering algorithm."
   ],
   "cell_type": "markdown",
   "metadata": {}
  },
  {
   "cell_type": "code",
   "execution_count": 4,
   "metadata": {},
   "outputs": [],
   "source": [
    "# Import libraries\n",
    "import yfinance as yf\n",
    "import pandas as pd\n",
    "import numpy as np\n",
    "import json\n",
    "\n",
    "from sklearn.preprocessing import StandardScaler\n",
    "from sklearn.cluster import KMeans\n"
   ]
  },
  {
   "cell_type": "code",
   "execution_count": 106,
   "metadata": {},
   "outputs": [],
   "source": [
    "class Clustering():\n",
    "    '''\n",
    "\n",
    "    Class to gather stock dataset and training the model.\n",
    "\n",
    "    methods:\n",
    "    - gather_data\n",
    "    - normalize_data\n",
    "    - cluster_export\n",
    "\n",
    "    '''\n",
    "\n",
    "    def __init__(self, stock_list):\n",
    "        self.stock_list = stock_list\n",
    "        self.list_columns = [\n",
    "            'symbol',\n",
    "            'sector',\n",
    "            'fullTimeEmployees',\n",
    "            'trailingAnnualDividendYield',\n",
    "            'payoutRatio',\n",
    "            'averageDailyVolume10Day',\n",
    "            'trailingAnnualDividendRate',\n",
    "            'averageVolume10days',\n",
    "            'dividendRate',\n",
    "            'beta',\n",
    "            'priceHint',\n",
    "            'trailingPE',\n",
    "            'regularMarketVolume',\n",
    "            'marketCap',\n",
    "            'averageVolume',\n",
    "            'priceToSalesTrailing12Months',\n",
    "            'forwardPE',\n",
    "            'fiveYearAvgDividendYield',\n",
    "            'dividendYield',\n",
    "            'enterpriseToRevenue',\n",
    "            'profitMargins',\n",
    "            'enterpriseToEbitda',\n",
    "            'forwardEps',\n",
    "            'bookValue',\n",
    "            'sharesPercentSharesOut',\n",
    "            'heldPercentInstitutions',\n",
    "            'netIncomeToCommon',\n",
    "            'trailingEps',\n",
    "            'lastDividendValue',\n",
    "            'priceToBook',\n",
    "            'heldPercentInsiders',\n",
    "            'shortRatio',\n",
    "            'enterpriseValue',\n",
    "            'earningsQuarterlyGrowth',\n",
    "            'pegRatio',\n",
    "            'shortPercentOfFloat',\n",
    "            'increment'\n",
    "        ]\n",
    "    \n",
    "    def __get_increment(self, symbol):\n",
    "        '''\n",
    "\n",
    "        Get the increment of the stock in 1 month period.\n",
    "\n",
    "        return: Float increment.\n",
    "\n",
    "        '''\n",
    "\n",
    "        stock_data = yf.download(\n",
    "            tickers=symbol,\n",
    "            period='1mo',\n",
    "            interval='1wk'\n",
    "        )\n",
    "\n",
    "        stock_data = stock_data['Adj Close']\n",
    "\n",
    "        latest_price = stock_data[-1]\n",
    "        initial_price = stock_data[0]\n",
    "        \n",
    "        if initial_price is None:\n",
    "            initial_price = stock_data[1]\n",
    "        \n",
    "        if latest_price is None:\n",
    "            latest_price = stock_data[-2]\n",
    "\n",
    "        increment = (latest_price - initial_price) / initial_price\n",
    "\n",
    "        return increment\n",
    "\n",
    "    def gather_data(self):\n",
    "        '''\n",
    "\n",
    "        Gathering and formatting stock data into a dataframe and export it to CSV file.\n",
    "\n",
    "        return: None.\n",
    "\n",
    "        '''\n",
    "\n",
    "        df = pd.DataFrame(columns=list_columns)\n",
    "        for symbol in self.stock_list:\n",
    "            try:\n",
    "                print('[INFO] Gathering {} stock data...'.format(symbol))\n",
    "                ticker = yf.Ticker(symbol)\n",
    "\n",
    "                # Create DataFrame from Company Info\n",
    "                company_info = ticker.info\n",
    "                df_info = pd.DataFrame.from_dict(company_info, orient='index').T\n",
    "\n",
    "                if df_info['fullTimeEmployees'] is None:\n",
    "                    pass\n",
    "                else:\n",
    "                    df_info['symbol'] = [symbol]\n",
    "\n",
    "                    # Get increment\n",
    "                    increment = self.__get_increment(symbol)\n",
    "                    df_info['increment'] = [increment]\n",
    "\n",
    "                    # Remove unnecessary column\n",
    "                    df_info.drop(df_info.columns.difference(self.list_columns), 1, inplace=True)\n",
    "\n",
    "                    # Add to the main dataframe\n",
    "                    df = df.append(df_info, ignore_index=True)\n",
    "            except:\n",
    "                pass\n",
    "\n",
    "        # Export dataset\n",
    "        export = df.to_csv('Stock Dataset.csv', index=False)\n",
    "        print('[SUCCESS] Stock Dataset has been exported to the local directory.')\n",
    "\n",
    "    def normalize_data(self, path):\n",
    "        '''\n",
    "\n",
    "        Normalize the data.\n",
    "\n",
    "        @param path: Folder directory of the normalized dataset.\n",
    "\n",
    "        return: None.\n",
    "\n",
    "        '''\n",
    "\n",
    "        dict_sector = {\n",
    "            'Healthcare': 1,\n",
    "            'Basic Materials': 2,\n",
    "            'Consumer Defensive': 3,\n",
    "            'Real Estate': 4,\n",
    "            'Industrials': 5,\n",
    "            'Financial Services': 6,\n",
    "            'Consumer Cyclical': 7,\n",
    "            'Technology': 8,\n",
    "            'Communication Services': 9,\n",
    "            'Utilities': 10,\n",
    "            'Energy': 11\n",
    "        }\n",
    "\n",
    "        df = pd.read_csv(path)\n",
    "\n",
    "        # Replace inf to nan and remove the row\n",
    "        df = df.fillna(0)\n",
    "        df = df.replace([np.inf, -np.inf], np.nan).dropna(axis=0)\n",
    "\n",
    "        # Index\n",
    "        symbol_list = df['symbol'].values\n",
    "\n",
    "        # Sector\n",
    "        df['sector'] = df['sector'].replace(dict_sector)\n",
    "\n",
    "        # Drop non digit columns\n",
    "        df = df.drop(columns=['symbol'])\n",
    "\n",
    "        # Normalize\n",
    "        df_values = df.values\n",
    "        scaler = StandardScaler()\n",
    "        df_values_scaled = scaler.fit_transform(df_values)\n",
    "        df = pd.DataFrame(df_values_scaled, columns=self.list_columns[1:])\n",
    "\n",
    "        # Scale increment\n",
    "        df['increment'] = np.multiply(df['increment'], 100)\n",
    "\n",
    "        # Scale sector\n",
    "        df['sector'] = np.multiply(df['sector'], 100)\n",
    "\n",
    "        # Readd the sector and symbol columns\n",
    "        df['symbol'] = symbol_list\n",
    "\n",
    "        export = df.to_csv('Normalized Stock Dataset.csv', index=False)\n",
    "        print('[SUCCESS] Normalized Stock Dataset has been exported to the local directory.')\n",
    "        \n",
    "    def cluster_export(self, path, index='symbol', n_clusters=500):\n",
    "        '''\n",
    "\n",
    "        Cluster the dataset and export to a new csv dataset with clustered value.\n",
    "\n",
    "        @param path: Folder directory of the normalized dataset.\n",
    "        @param index: Name of the column of index.\n",
    "        @param n_clusters: Number of cluster\n",
    "\n",
    "        return: None.\n",
    "\n",
    "        '''\n",
    "\n",
    "        df = pd.read_csv(path, index_col=index)\n",
    "\n",
    "        model = KMeans(n_clusters=n_clusters)\n",
    "\n",
    "        model = model.fit(df.values)\n",
    "\n",
    "        # Cluster labels\n",
    "        labels = model.labels_\n",
    "\n",
    "        df['cluster'] = labels\n",
    "\n",
    "        df = df['cluster']\n",
    "\n",
    "        export = df.to_csv('Clustered Stock Dataset.csv')\n",
    "        print('[SUCCESS] Clustered Stock Dataset has been exported to the local directory.')\n"
   ]
  },
  {
   "cell_type": "code",
   "execution_count": 107,
   "metadata": {
    "tags": []
   },
   "outputs": [],
   "source": [
    "with open('tickers.json', 'r') as f:\n",
    "    json_tickers = f.read()\n",
    "    list_tickers = json.loads(json_tickers)\n",
    "\n",
    "test_tickers = ['AAPL', 'MSFT', 'VOO', 'AAAU', 'WNC']\n",
    "\n",
    "clustering = Clustering(list_tickers)\n",
    "\n",
    "# Run to gather the data\n",
    "# clustering.gather_data()"
   ]
  },
  {
   "cell_type": "code",
   "execution_count": 108,
   "metadata": {},
   "outputs": [
    {
     "output_type": "stream",
     "name": "stdout",
     "text": [
      "4421\n  symbol              sector  fullTimeEmployees  trailingAnnualDividendYield  \\\n0      A          Healthcare              16400                     0.005987   \n1     AA     Basic Materials              12900                     0.011542   \n2   AACG  Consumer Defensive                768                          NaN   \n3   AAIC         Real Estate                 12                          NaN   \n4    AAL         Industrials             102700                     0.004049   \n\n   payoutRatio  averageDailyVolume10Day  trailingAnnualDividendRate  \\\n0       0.2823                1711725.0                       0.734   \n1       0.0000                6112825.0                       0.360   \n2       0.0000                 614150.0                         NaN   \n3       0.0000                 187787.0                         NaN   \n4          NaN               52531950.0                       0.100   \n\n   averageVolume10days  dividendRate      beta  ...  trailingEps  \\\n0            1711725.0          0.78  1.010834  ...        2.597   \n1            6112825.0           NaN  2.654205  ...       -0.914   \n2             614150.0           NaN  1.279503  ...          NaN   \n3             187787.0           NaN  1.862405  ...          NaN   \n4           52531950.0           NaN  1.858071  ...      -18.362   \n\n   lastDividendValue  priceToBook  heldPercentInsiders  shortRatio  \\\n0              0.194     7.786875              0.00322        1.36   \n1              0.090     1.749143              0.00547        1.54   \n2              6.000          NaN              0.00000        0.01   \n3              0.225          NaN              0.02857        4.09   \n4              0.100          NaN              0.00934        1.13   \n\n   enterpriseValue  earningsQuarterlyGrowth  pegRatio  shortPercentOfFloat  \\\n0     3.872934e+10                    0.462      2.92               0.0078   \n1     8.504872e+09                      NaN      0.07               0.0611   \n2     1.631882e+08                      NaN       NaN                  NaN   \n3    -3.693711e+07                   -0.582     -1.02               0.0301   \n4     5.012970e+10                      NaN      0.07               0.1587   \n\n   increment  \n0  -0.032947  \n1   0.346304  \n2  -0.065371  \n3  -0.007519  \n4   0.336724  \n\n[5 rows x 37 columns]\n"
     ]
    }
   ],
   "source": [
    "df = pd.read_csv('Stock Dataset.csv')\n",
    "print(len(df))\n",
    "print(df.head())"
   ]
  },
  {
   "cell_type": "code",
   "execution_count": 109,
   "metadata": {},
   "outputs": [
    {
     "output_type": "stream",
     "name": "stdout",
     "text": [
      "0          A\n1         AA\n2       AACG\n3       AAIC\n4        AAL\n        ... \n4416    ZUMZ\n4417     ZVO\n4418    ZYME\n4419    ZYNE\n4420    ZYXI\nName: symbol, Length: 4421, dtype: object\n"
     ]
    }
   ],
   "source": [
    "print(df['symbol'])"
   ]
  },
  {
   "cell_type": "code",
   "execution_count": 110,
   "metadata": {},
   "outputs": [
    {
     "output_type": "stream",
     "name": "stdout",
     "text": [
      "['Healthcare', 'Basic Materials', 'Consumer Defensive', 'Real Estate', 'Industrials', 'Financial Services', 'Consumer Cyclical', 'Technology', 'Communication Services', 'Utilities', 'Energy', nan]\n"
     ]
    }
   ],
   "source": [
    "print(df['sector'].unique().tolist())"
   ]
  },
  {
   "cell_type": "code",
   "execution_count": 111,
   "metadata": {},
   "outputs": [
    {
     "output_type": "stream",
     "name": "stdout",
     "text": [
      "[SUCCESS] Normalized Stock Dataset has been exported to the local directory.\n"
     ]
    }
   ],
   "source": [
    "clustering.normalize_data('Stock Dataset.csv')"
   ]
  },
  {
   "cell_type": "code",
   "execution_count": 124,
   "metadata": {},
   "outputs": [
    {
     "output_type": "stream",
     "name": "stdout",
     "text": [
      "[SUCCESS] Clustered Stock Dataset has been exported to the local directory.\n"
     ]
    }
   ],
   "source": [
    "clustering.cluster_export('Normalized Stock Dataset.csv', n_clusters=200)"
   ]
  },
  {
   "cell_type": "code",
   "execution_count": 125,
   "metadata": {},
   "outputs": [
    {
     "output_type": "stream",
     "name": "stdout",
     "text": [
      "  symbol  cluster\n0      A      146\n1     AA      144\n2   AACG      117\n3   AAIC       37\n4    AAL      110\n"
     ]
    }
   ],
   "source": [
    "df_clustered = pd.read_csv('Clustered Stock Dataset.csv')\n",
    "\n",
    "print(df_clustered.head())\n"
   ]
  },
  {
   "cell_type": "code",
   "execution_count": 132,
   "metadata": {},
   "outputs": [
    {
     "output_type": "stream",
     "name": "stdout",
     "text": [
      "165\n"
     ]
    }
   ],
   "source": [
    "symbol_cluster = df_clustered.loc[df_clustered['symbol'] == 'CRM']['cluster'].values[0]\n",
    "print(symbol_cluster)\n"
   ]
  },
  {
   "cell_type": "code",
   "execution_count": 133,
   "metadata": {},
   "outputs": [
    {
     "output_type": "stream",
     "name": "stdout",
     "text": [
      "     symbol  cluster\n194    ALRM      165\n202    ALTR      165\n274    AOSL      165\n365    ASUR      165\n422    AVNW      165\n...     ...      ...\n4028   UEIC      165\n4169    VPG      165\n4183   VRSN      165\n4275   WORK      165\n4311    WTT      165\n\n[62 rows x 2 columns]\n"
     ]
    }
   ],
   "source": [
    "same_cluster = df_clustered.loc[df_clustered['cluster'] == symbol_cluster]\n",
    "print(same_cluster)\n"
   ]
  },
  {
   "cell_type": "code",
   "execution_count": null,
   "metadata": {},
   "outputs": [],
   "source": []
  }
 ]
}