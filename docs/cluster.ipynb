{
 "metadata": {
  "language_info": {
   "codemirror_mode": {
    "name": "ipython",
    "version": 3
   },
   "file_extension": ".py",
   "mimetype": "text/x-python",
   "name": "python",
   "nbconvert_exporter": "python",
   "pygments_lexer": "ipython3",
   "version": "3.9.0-final"
  },
  "orig_nbformat": 2,
  "kernelspec": {
   "name": "python3",
   "display_name": "Python 3.9.0 64-bit",
   "metadata": {
    "interpreter": {
     "hash": "d61ed362aa666647e884e856f8a6ce510649070e79e0263068f970fc17431b76"
    }
   }
  }
 },
 "nbformat": 4,
 "nbformat_minor": 2,
 "cells": [
  {
   "source": [
    "# Clustering\n",
    "This notebook is to demonstrate the function of gathering the data from the stock market and creating the clustering algorithm."
   ],
   "cell_type": "markdown",
   "metadata": {}
  },
  {
   "cell_type": "code",
   "execution_count": 1,
   "metadata": {},
   "outputs": [],
   "source": [
    "# Import libraries\n",
    "import yfinance as yf\n",
    "import pandas as pd\n",
    "import numpy as np\n",
    "import json\n",
    "\n",
    "from sklearn.preprocessing import StandardScaler\n",
    "from sklearn.cluster import KMeans\n"
   ]
  },
  {
   "cell_type": "code",
   "execution_count": 2,
   "metadata": {},
   "outputs": [],
   "source": [
    "class Clustering():\n",
    "    '''\n",
    "\n",
    "    Class to gather stock dataset and training the model.\n",
    "\n",
    "    methods:\n",
    "    - gather_data\n",
    "    - cluster_export\n",
    "\n",
    "    '''\n",
    "\n",
    "    def __init__(self, stock_list):\n",
    "        self.stock_list = stock_list\n",
    "    \n",
    "    def __get_increment(self, symbol):\n",
    "        '''\n",
    "\n",
    "        Get the increment of the stock in 1 month period.\n",
    "\n",
    "        return: Float increment.\n",
    "\n",
    "        '''\n",
    "\n",
    "        stock_data = yf.download(\n",
    "            tickers=symbol,\n",
    "            period='1mo',\n",
    "            interval='1wk'\n",
    "        )\n",
    "\n",
    "        stock_data = stock_data['Adj Close']\n",
    "\n",
    "        latest_price = stock_data[-1]\n",
    "        initial_price = stock_data[0]\n",
    "        \n",
    "        if initial_price is None:\n",
    "            initial_price = stock_data[1]\n",
    "        \n",
    "        if latest_price is None:\n",
    "            latest_price = stock_data[-2]\n",
    "\n",
    "        increment = (latest_price - initial_price) / initial_price\n",
    "\n",
    "        return increment\n",
    "\n",
    "    def gather_data(self):\n",
    "        '''\n",
    "\n",
    "        Gathering and formatting stock data into a dataframe and export it to CSV file.\n",
    "\n",
    "        return: None.\n",
    "\n",
    "        '''\n",
    "        list_columns = [\n",
    "            'symbol',\n",
    "            'sector',\n",
    "            'fullTimeEmployees',\n",
    "            'trailingAnnualDividendYield',\n",
    "            'payoutRatio',\n",
    "            'averageDailyVolume10Day',\n",
    "            'trailingAnnualDividendRate',\n",
    "            'averageVolume10days',\n",
    "            'dividendRate',\n",
    "            'beta',\n",
    "            'priceHint',\n",
    "            'trailingPE',\n",
    "            'regularMarketVolume',\n",
    "            'marketCap',\n",
    "            'averageVolume',\n",
    "            'priceToSalesTrailing12Months',\n",
    "            'forwardPE',\n",
    "            'fiveYearAvgDividendYield',\n",
    "            'dividendYield',\n",
    "            'enterpriseToRevenue',\n",
    "            'profitMargins',\n",
    "            'enterpriseToEbitda',\n",
    "            'forwardEps',\n",
    "            'bookValue',\n",
    "            'sharesPercentSharesOut',\n",
    "            'heldPercentInstitutions',\n",
    "            'netIncomeToCommon',\n",
    "            'trailingEps',\n",
    "            'lastDividendValue',\n",
    "            'priceToBook',\n",
    "            'heldPercentInsiders',\n",
    "            'shortRatio',\n",
    "            'enterpriseValue',\n",
    "            'earningsQuarterlyGrowth',\n",
    "            'pegRatio',\n",
    "            'shortPercentOfFloat',\n",
    "            'increment'\n",
    "        ]\n",
    "\n",
    "        df = pd.DataFrame(columns=list_columns)\n",
    "        for symbol in self.stock_list:\n",
    "            try:\n",
    "                print('[INFO] Gathering {} stock data...'.format(symbol))\n",
    "                ticker = yf.Ticker(symbol)\n",
    "\n",
    "                # Create DataFrame from Company Info\n",
    "                company_info = ticker.info\n",
    "                df_info = pd.DataFrame.from_dict(company_info, orient='index').T\n",
    "\n",
    "                if df_info['fullTimeEmployees'] is None:\n",
    "                    pass\n",
    "                else:\n",
    "                    df_info['symbol'] = [symbol]\n",
    "\n",
    "                    # Get increment\n",
    "                    increment = self.__get_increment(symbol)\n",
    "                    df_info['increment'] = [increment]\n",
    "\n",
    "                    # Remove unnecessary column\n",
    "                    df_info.drop(df_info.columns.difference(list_columns), 1, inplace=True)\n",
    "\n",
    "                    # Add to the main dataframe\n",
    "                    df = df.append(df_info, ignore_index=True)\n",
    "            except:\n",
    "                pass\n",
    "\n",
    "        # Replace inf to nan and remove the row\n",
    "        df = df.fillna(0)\n",
    "        df = df.replace([np.inf, -np.inf], np.nan).dropna(axis=0)\n",
    "\n",
    "        # Index\n",
    "        symbol_list = df['symbol'].values\n",
    "\n",
    "        # Sector\n",
    "        sector_list = df['sector'].values\n",
    "\n",
    "        # Drop non digit columns\n",
    "        df = df.drop(columns=['symbol', 'sector'])\n",
    "\n",
    "        # Normalize\n",
    "        df_values = df.values\n",
    "        scaler = StandardScaler()\n",
    "        df_values_scaled = scaler.fit_transform(df_values)\n",
    "        df = pd.DataFrame(df_values_scaled, columns=list_columns[2:])\n",
    "\n",
    "        # Readd the sector and symbol columns\n",
    "        df['symbol'] = symbol_list\n",
    "        df['sector'] = sector_list\n",
    "\n",
    "        export = df.to_csv('Stock Dataset.csv', index=False)\n",
    "        print('[SUCCESS] Stock Dataset has been exported to the local directory.')\n",
    "\n",
    "    def cluster_export(self, path, index='symbol', n_clusters=500):\n",
    "        '''\n",
    "\n",
    "        Cluster the dataset and export to a new csv dataset with clustered value.\n",
    "\n",
    "        @param path: Folder directory of the normalized dataset.\n",
    "        @param index: Name of the column of index.\n",
    "        @param n_clusters: Number of cluster\n",
    "\n",
    "        return: None.\n",
    "\n",
    "        '''\n",
    "\n",
    "        df = pd.read_csv(path, index_col=index)\n",
    "\n",
    "        model = KMeans(n_clusters=n_clusters)\n",
    "\n",
    "        model = model.fit(df.values)\n",
    "\n",
    "        # Cluster labels\n",
    "        labels = model.labels_\n",
    "\n",
    "        df['cluster'] = labels\n",
    "\n",
    "        df = df['cluster']\n",
    "\n",
    "        export = df.to_csv('Clustered Stock Dataset.csv')\n",
    "        print('[SUCCESS] Normalized Stock Dataset has been exported to the local directory.')\n"
   ]
  },
  {
   "cell_type": "code",
   "execution_count": 10,
   "metadata": {
    "tags": []
   },
   "outputs": [
    {
     "output_type": "stream",
     "name": "stdout",
     "text": [
      "[INFO] Gathering AAPL stock data...\n",
      "[*********************100%***********************]  1 of 1 completed\n",
      "[INFO] Gathering MSFT stock data...\n",
      "[*********************100%***********************]  1 of 1 completed\n",
      "[INFO] Gathering VOO stock data...\n",
      "[INFO] Gathering AAAU stock data...\n",
      "[INFO] Gathering WNC stock data...\n",
      "[*********************100%***********************]  1 of 1 completed\n",
      "[SUCCESS] Stock Dataset has been exported to the local directory.\n"
     ]
    }
   ],
   "source": [
    "with open('tickers.json', 'r') as f:\n",
    "    json_tickers = f.read()\n",
    "    list_tickers = json.loads(json_tickers)\n",
    "\n",
    "test_tickers = ['AAPL', 'MSFT', 'VOO', 'AAAU', 'WNC']\n",
    "\n",
    "clustering = Clustering(test_tickers)\n",
    "\n",
    "# Run to gather the data\n",
    "clustering.gather_data()"
   ]
  },
  {
   "cell_type": "code",
   "execution_count": 11,
   "metadata": {},
   "outputs": [
    {
     "output_type": "stream",
     "name": "stdout",
     "text": [
      "2\n   fullTimeEmployees  trailingAnnualDividendYield  payoutRatio  \\\n0               -1.0                         -1.0         -1.0   \n1                1.0                          1.0          1.0   \n\n   averageDailyVolume10Day  trailingAnnualDividendRate  averageVolume10days  \\\n0                      1.0                        -1.0                  1.0   \n1                     -1.0                         1.0                 -1.0   \n\n   dividendRate  beta  priceHint  trailingPE  ...  priceToBook  \\\n0          -1.0   1.0        0.0        -1.0  ...          1.0   \n1           1.0  -1.0        0.0         1.0  ...         -1.0   \n\n   heldPercentInsiders  shortRatio  enterpriseValue  earningsQuarterlyGrowth  \\\n0                  1.0        -1.0              1.0                     -1.0   \n1                 -1.0         1.0             -1.0                      1.0   \n\n   pegRatio  shortPercentOfFloat  increment  symbol      sector  \n0       1.0                  1.0       -1.0    AAPL  Technology  \n1      -1.0                 -1.0        1.0    MSFT  Technology  \n\n[2 rows x 37 columns]\n"
     ]
    }
   ],
   "source": [
    "df = pd.read_csv('Stock Dataset.csv')\n",
    "print(len(df))\n",
    "print(df.head())"
   ]
  },
  {
   "cell_type": "code",
   "execution_count": 6,
   "metadata": {},
   "outputs": [
    {
     "output_type": "stream",
     "name": "stdout",
     "text": [
      "count                     64\nunique                    11\ntop       Financial Services\nfreq                      12\nName: sector, dtype: object\n"
     ]
    }
   ],
   "source": [
    "print(df['sector'].describe())"
   ]
  },
  {
   "cell_type": "code",
   "execution_count": 136,
   "metadata": {},
   "outputs": [
    {
     "output_type": "stream",
     "name": "stdout",
     "text": [
      "  symbol  cluster\n0      A        0\n1     AA        0\n2    AAA        3\n3   AAAU        3\n4   AACG       11\n"
     ]
    }
   ],
   "source": [
    "df_clustered = pd.read_csv('Clustered Stock Dataset.csv')\n",
    "\n",
    "print(df_clustered.head())\n"
   ]
  },
  {
   "cell_type": "code",
   "execution_count": 151,
   "metadata": {},
   "outputs": [
    {
     "output_type": "stream",
     "name": "stdout",
     "text": [
      "7\n"
     ]
    }
   ],
   "source": [
    "symbol_cluster = df_clustered.loc[df_clustered['symbol'] == 'JPM']['cluster'].values[0]\n",
    "print(symbol_cluster)\n"
   ]
  },
  {
   "cell_type": "code",
   "execution_count": 152,
   "metadata": {},
   "outputs": [
    {
     "output_type": "stream",
     "name": "stdout",
     "text": [
      "     symbol  cluster\n692     BAC        7\n1181      C        7\n1538  CMCSA        7\n1723   CSCO        7\n3574     HD        7\n4094   INTC        7\n4374    JNJ        7\n4394    JPM        7\n4534     KO        7\n4863     MA        7\n5171    MRK        7\n5185     MS        7\n5602    NVS        7\n5774   ORCL        7\n5966    PEP        7\n5981    PFE        7\n6011     PG        7\n7932    UNH        7\n8028      V        7\n8311     VZ        7\n"
     ]
    }
   ],
   "source": [
    "same_cluster = df_clustered.loc[df_clustered['cluster'] == symbol_cluster]\n",
    "print(same_cluster)\n"
   ]
  },
  {
   "cell_type": "code",
   "execution_count": null,
   "metadata": {},
   "outputs": [],
   "source": []
  }
 ]
}