{
 "metadata": {
  "language_info": {
   "codemirror_mode": {
    "name": "ipython",
    "version": 3
   },
   "file_extension": ".py",
   "mimetype": "text/x-python",
   "name": "python",
   "nbconvert_exporter": "python",
   "pygments_lexer": "ipython3",
   "version": "3.9.0-final"
  },
  "orig_nbformat": 2,
  "kernelspec": {
   "name": "python3",
   "display_name": "Python 3.9.0 64-bit",
   "metadata": {
    "interpreter": {
     "hash": "d61ed362aa666647e884e856f8a6ce510649070e79e0263068f970fc17431b76"
    }
   }
  }
 },
 "nbformat": 4,
 "nbformat_minor": 2,
 "cells": [
  {
   "source": [
    "# Clustering\n",
    "This notebook is to demonstrate the function of gathering the data from the stock market and creating the clustering algorithm."
   ],
   "cell_type": "markdown",
   "metadata": {}
  },
  {
   "cell_type": "code",
   "execution_count": 1,
   "metadata": {},
   "outputs": [],
   "source": [
    "# Import libraries\n",
    "import yfinance as yf\n",
    "import pandas as pd\n"
   ]
  },
  {
   "cell_type": "code",
   "execution_count": 27,
   "metadata": {},
   "outputs": [],
   "source": [
    "class Clustering():\n",
    "    '''\n",
    "\n",
    "    Class to gather stock dataset and training the model.\n",
    "\n",
    "    methods:\n",
    "    - gather_data\n",
    "\n",
    "    '''\n",
    "\n",
    "    def __init__(self, stock_list):\n",
    "        self.stock_list = stock_list\n",
    "\n",
    "    def gather_data(self):\n",
    "        '''\n",
    "\n",
    "        Gathering and formatting stock data into a dataframe.\n",
    "\n",
    "        return: Pandas DataFrame.\n",
    "\n",
    "        '''\n",
    "        list_columns = [\n",
    "            'fullTimeEmployees',\n",
    "            'trailingAnnualDividendYield',\n",
    "            'payoutRatio',\n",
    "            'averageDailyVolume10Day',\n",
    "            'trailingAnnualDividendRate',\n",
    "            'averageVolume10days',\n",
    "            'dividendRate',\n",
    "            'beta',\n",
    "            'priceHint',\n",
    "            'trailingPE',\n",
    "            'regularMarketVolume',\n",
    "            'marketCap',\n",
    "            'averageVolume',\n",
    "            'priceToSalesTrailing12Months',\n",
    "            'forwardPE',\n",
    "            'fiveYearAvgDividendYield',\n",
    "            'dividendYield',\n",
    "            'enterpriseToRevenue',\n",
    "            'profitMargins',\n",
    "            'enterpriseToEbitda',\n",
    "            'forwardEps',\n",
    "            'bookValue',\n",
    "            'sharesPercentSharesOut',\n",
    "            'heldPercentInstitutions',\n",
    "            'netIncomeToCommon',\n",
    "            'trailingEps',\n",
    "            'lastDividendValue',\n",
    "            'priceToBook',\n",
    "            'heldPercentInsiders',\n",
    "            'shortRatio',\n",
    "            'enterpriseValue',\n",
    "            'earningsQuarterlyGrowth',\n",
    "            'pegRatio',\n",
    "            'shortPercentOfFloat',\n",
    "        ]\n",
    "\n",
    "        df = pd.DataFrame(columns=list_columns)\n",
    "        for symbol in self.stock_list:\n",
    "            ticker = yf.Tickers(symbol)\n",
    "\n",
    "        print(df)"
   ]
  },
  {
   "cell_type": "code",
   "execution_count": 28,
   "metadata": {},
   "outputs": [],
   "source": [
    "clustering = Clustering(['aapl', 'msft', 'tsla'])"
   ]
  },
  {
   "cell_type": "code",
   "execution_count": 29,
   "metadata": {},
   "outputs": [
    {
     "output_type": "stream",
     "name": "stdout",
     "text": [
      "Empty DataFrame\nColumns: [fullTimeEmployees, trailingAnnualDividendYield, payoutRatio, averageDailyVolume10Day, trailingAnnualDividendRate, averageVolume10days, dividendRate, beta, priceHint, trailingPE, regularMarketVolume, marketCap, averageVolume, priceToSalesTrailing12Months, forwardPE, fiveYearAvgDividendYield, dividendYield, enterpriseToRevenue, profitMargins, enterpriseToEbitda, forwardEps, bookValue, sharesPercentSharesOut, heldPercentInstitutions, netIncomeToCommon, trailingEps, lastDividendValue, priceToBook, heldPercentInsiders, shortRatio, enterpriseValue, earningsQuarterlyGrowth, pegRatio, shortPercentOfFloat]\nIndex: []\n\n[0 rows x 34 columns]\n"
     ]
    }
   ],
   "source": [
    "clustering.gather_data()"
   ]
  },
  {
   "cell_type": "code",
   "execution_count": null,
   "metadata": {},
   "outputs": [],
   "source": []
  }
 ]
}