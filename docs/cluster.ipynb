{
 "metadata": {
  "language_info": {
   "codemirror_mode": {
    "name": "ipython",
    "version": 3
   },
   "file_extension": ".py",
   "mimetype": "text/x-python",
   "name": "python",
   "nbconvert_exporter": "python",
   "pygments_lexer": "ipython3",
   "version": "3.9.0-final"
  },
  "orig_nbformat": 2,
  "kernelspec": {
   "name": "python3",
   "display_name": "Python 3.9.0 64-bit",
   "metadata": {
    "interpreter": {
     "hash": "d61ed362aa666647e884e856f8a6ce510649070e79e0263068f970fc17431b76"
    }
   }
  }
 },
 "nbformat": 4,
 "nbformat_minor": 2,
 "cells": [
  {
   "source": [
    "# Clustering\n",
    "This notebook is to demonstrate the function of gathering the data from the stock market and creating the clustering algorithm."
   ],
   "cell_type": "markdown",
   "metadata": {}
  },
  {
   "cell_type": "code",
   "execution_count": 38,
   "metadata": {},
   "outputs": [],
   "source": [
    "# Import libraries\n",
    "import yfinance as yf\n",
    "import pandas as pd\n",
    "\n",
    "from sklearn.preprocessing import StandardScaler\n"
   ]
  },
  {
   "cell_type": "code",
   "execution_count": 39,
   "metadata": {},
   "outputs": [],
   "source": [
    "class Clustering():\n",
    "    '''\n",
    "\n",
    "    Class to gather stock dataset and training the model.\n",
    "\n",
    "    methods:\n",
    "    - gather_data\n",
    "\n",
    "    '''\n",
    "\n",
    "    def __init__(self, stock_list):\n",
    "        self.stock_list = stock_list\n",
    "\n",
    "    def gather_data(self):\n",
    "        '''\n",
    "\n",
    "        Gathering and formatting stock data into a dataframe.\n",
    "\n",
    "        return: Pandas DataFrame.\n",
    "\n",
    "        '''\n",
    "        list_columns = [\n",
    "            'fullTimeEmployees',\n",
    "            'trailingAnnualDividendYield',\n",
    "            'payoutRatio',\n",
    "            'averageDailyVolume10Day',\n",
    "            'trailingAnnualDividendRate',\n",
    "            'averageVolume10days',\n",
    "            'dividendRate',\n",
    "            'beta',\n",
    "            'priceHint',\n",
    "            'trailingPE',\n",
    "            'regularMarketVolume',\n",
    "            'marketCap',\n",
    "            'averageVolume',\n",
    "            'priceToSalesTrailing12Months',\n",
    "            'forwardPE',\n",
    "            'fiveYearAvgDividendYield',\n",
    "            'dividendYield',\n",
    "            'enterpriseToRevenue',\n",
    "            'profitMargins',\n",
    "            'enterpriseToEbitda',\n",
    "            'forwardEps',\n",
    "            'bookValue',\n",
    "            'sharesPercentSharesOut',\n",
    "            'heldPercentInstitutions',\n",
    "            'netIncomeToCommon',\n",
    "            'trailingEps',\n",
    "            'lastDividendValue',\n",
    "            'priceToBook',\n",
    "            'heldPercentInsiders',\n",
    "            'shortRatio',\n",
    "            'enterpriseValue',\n",
    "            'earningsQuarterlyGrowth',\n",
    "            'pegRatio',\n",
    "            'shortPercentOfFloat',\n",
    "        ]\n",
    "\n",
    "        df = pd.DataFrame(columns=list_columns)\n",
    "        for symbol in self.stock_list:\n",
    "            ticker = yf.Ticker(symbol)\n",
    "\n",
    "            # Create DataFrame from Company Info\n",
    "            company_info = ticker.info\n",
    "            df_info = pd.DataFrame.from_dict(company_info, orient='index').T\n",
    "\n",
    "            # Remove unnecessary column\n",
    "            df_info = df_info.loc[:, df.columns.intersection(list_columns)]\n",
    "\n",
    "            # Add to the main dataframe\n",
    "            df = df.append(df_info, ignore_index=True)\n",
    "\n",
    "        # Fill NaN value to 0\n",
    "        df = df.fillna(0)\n",
    "\n",
    "        # Normalize the data\n",
    "        df.iloc[:,:] = StandardScaler().fit_transform(df)\n",
    "\n",
    "        print(df.head())\n",
    "\n",
    "        # export = df.to_csv('Stock Dataset.csv', index=False)\n",
    "        # print('[SUCCESS] Stock Dataset has been exported to the local directory.')\n"
   ]
  },
  {
   "cell_type": "code",
   "execution_count": 40,
   "metadata": {},
   "outputs": [],
   "source": [
    "clustering = Clustering(['aapl', 'msft', 'tsla'])"
   ]
  },
  {
   "cell_type": "code",
   "execution_count": 41,
   "metadata": {},
   "outputs": [
    {
     "output_type": "stream",
     "name": "stdout",
     "text": [
      "   fullTimeEmployees  trailingAnnualDividendYield  payoutRatio  \\\n0           0.498955                     0.322815     0.316525   \n1           0.896508                     1.031003     1.035412   \n2          -1.395463                    -1.353818    -1.351937   \n\n   averageDailyVolume10Day  trailingAnnualDividendRate  averageVolume10days  \\\n0                 1.411906                   -0.198700             1.411906   \n1                -0.775896                    1.311946            -0.775896   \n2                -0.636009                   -1.113246            -0.636009   \n\n   dividendRate      beta  priceHint  trailingPE  ...  netIncomeToCommon  \\\n0     -0.216135 -0.251803        0.0   -0.708474  ...           0.925332   \n1      1.318425 -1.079274        0.0   -0.705738  ...           0.463520   \n2     -1.102289  1.331076        0.0    1.414213  ...          -1.388852   \n\n   trailingEps  lastDividendValue  priceToBook  heldPercentInsiders  \\\n0     0.003634          -0.216135     0.931573            -0.706787   \n1     1.222924           1.318425    -1.387268            -0.707426   \n2    -1.226558          -1.102289     0.455696             1.414214   \n\n   shortRatio  enterpriseValue  earningsQuarterlyGrowth  pegRatio  \\\n0   -1.211067         1.018729                -0.735505 -0.659796   \n1   -0.026913         0.340131                -0.678324 -0.753385   \n2    1.237979        -1.358860                 1.413828  1.413181   \n\n   shortPercentOfFloat  \n0            -0.708985  \n1            -0.705227  \n2             1.414212  \n\n[3 rows x 34 columns]\n"
     ]
    }
   ],
   "source": [
    "clustering.gather_data()"
   ]
  }
 ]
}