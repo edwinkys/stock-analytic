{
 "metadata": {
  "language_info": {
   "codemirror_mode": {
    "name": "ipython",
    "version": 3
   },
   "file_extension": ".py",
   "mimetype": "text/x-python",
   "name": "python",
   "nbconvert_exporter": "python",
   "pygments_lexer": "ipython3",
   "version": "3.9.0-final"
  },
  "orig_nbformat": 2,
  "kernelspec": {
   "name": "python3",
   "display_name": "Python 3.9.0 64-bit",
   "metadata": {
    "interpreter": {
     "hash": "d61ed362aa666647e884e856f8a6ce510649070e79e0263068f970fc17431b76"
    }
   }
  }
 },
 "nbformat": 4,
 "nbformat_minor": 2,
 "cells": [
  {
   "source": [
    "# Clustering\n",
    "This notebook is to demonstrate the function of gathering the data from the stock market and creating the clustering algorithm."
   ],
   "cell_type": "markdown",
   "metadata": {}
  },
  {
   "cell_type": "code",
   "execution_count": 1,
   "metadata": {},
   "outputs": [],
   "source": [
    "# Import libraries\n",
    "import yfinance as yf\n",
    "import pandas as pd\n",
    "import numpy as np\n",
    "import json\n",
    "\n",
    "from sklearn.preprocessing import StandardScaler\n"
   ]
  },
  {
   "cell_type": "code",
   "execution_count": 2,
   "metadata": {},
   "outputs": [],
   "source": [
    "class Clustering():\n",
    "    '''\n",
    "\n",
    "    Class to gather stock dataset and training the model.\n",
    "\n",
    "    methods:\n",
    "    - gather_data\n",
    "\n",
    "    '''\n",
    "\n",
    "    def __init__(self, stock_list):\n",
    "        self.stock_list = stock_list\n",
    "\n",
    "    def gather_data(self):\n",
    "        '''\n",
    "\n",
    "        Gathering and formatting stock data into a dataframe.\n",
    "\n",
    "        return: Pandas DataFrame.\n",
    "\n",
    "        '''\n",
    "        list_columns = [\n",
    "            'symbol'\n",
    "            'fullTimeEmployees',\n",
    "            'trailingAnnualDividendYield',\n",
    "            'payoutRatio',\n",
    "            'averageDailyVolume10Day',\n",
    "            'trailingAnnualDividendRate',\n",
    "            'averageVolume10days',\n",
    "            'dividendRate',\n",
    "            'beta',\n",
    "            'priceHint',\n",
    "            'trailingPE',\n",
    "            'regularMarketVolume',\n",
    "            'marketCap',\n",
    "            'averageVolume',\n",
    "            'priceToSalesTrailing12Months',\n",
    "            'forwardPE',\n",
    "            'fiveYearAvgDividendYield',\n",
    "            'dividendYield',\n",
    "            'enterpriseToRevenue',\n",
    "            'profitMargins',\n",
    "            'enterpriseToEbitda',\n",
    "            'forwardEps',\n",
    "            'bookValue',\n",
    "            'sharesPercentSharesOut',\n",
    "            'heldPercentInstitutions',\n",
    "            'netIncomeToCommon',\n",
    "            'trailingEps',\n",
    "            'lastDividendValue',\n",
    "            'priceToBook',\n",
    "            'heldPercentInsiders',\n",
    "            'shortRatio',\n",
    "            'enterpriseValue',\n",
    "            'earningsQuarterlyGrowth',\n",
    "            'pegRatio',\n",
    "            'shortPercentOfFloat',\n",
    "        ]\n",
    "\n",
    "        df = pd.DataFrame(columns=list_columns)\n",
    "        for symbol in self.stock_list:\n",
    "            try:\n",
    "                print('[INFO] Gathering {} stock data...'.format(symbol))\n",
    "                ticker = yf.Ticker(symbol)\n",
    "\n",
    "                # Create DataFrame from Company Info\n",
    "                company_info = ticker.info\n",
    "                df_info = pd.DataFrame.from_dict(company_info, orient='index').T\n",
    "\n",
    "                # Remove unnecessary column\n",
    "                df_info.drop(df_info.columns.difference(list_columns), 1, inplace=True)\n",
    "\n",
    "                df_info['Symbol'] = [symbol]\n",
    "\n",
    "                # Add to the main dataframe\n",
    "                df = df.append(df_info, ignore_index=True)\n",
    "            except:\n",
    "                pass\n",
    "\n",
    "        # Fill NaN value to 0\n",
    "        df = df.fillna(0)\n",
    "\n",
    "        export = df.to_csv('Stock Dataset.csv', index=False)\n",
    "        print('[SUCCESS] Stock Dataset has been exported to the local directory.')\n"
   ]
  },
  {
   "cell_type": "code",
   "execution_count": 3,
   "metadata": {},
   "outputs": [],
   "source": [
    "with open('tickers.json', 'r') as f:\n",
    "    json_tickers = f.read()\n",
    "    list_tickers = json.loads(json_tickers)\n",
    "\n",
    "clustering = Clustering(list_tickers)\n",
    "# Run to gather the data\n",
    "# clustering.gather_data()"
   ]
  },
  {
   "cell_type": "code",
   "execution_count": 10,
   "metadata": {},
   "outputs": [
    {
     "output_type": "stream",
     "name": "stdout",
     "text": [
      "        symbolfullTimeEmployees  trailingAnnualDividendYield  payoutRatio  \\\nSymbol                                                                      \nA                             0                     0.006320       0.2823   \nAA                            0                     0.012418       0.0000   \nAAA                           0                     0.000000       0.0000   \nAAAU                          0                     0.000000       0.0000   \nAACG                          0                     0.000000       0.0000   \n\n        averageDailyVolume10Day  trailingAnnualDividendRate  \\\nSymbol                                                        \nA                       1893300                       0.734   \nAA                      9360883                       0.360   \nAAA                        1100                       0.000   \nAAAU                     787050                       0.000   \nAACG                     376566                       0.000   \n\n        averageVolume10days  dividendRate      beta  priceHint  trailingPE  \\\nSymbol                                                                       \nA                   1893300          0.78  1.010834          2    44.69773   \nAA                  9360883          0.00  2.654205          2     0.00000   \nAAA                    1100          0.00  0.000000          2     0.00000   \nAAAU                 787050          0.00  0.000000          2     0.00000   \nAACG                 376566          0.00  1.279503          4     0.00000   \n\n        ...  netIncomeToCommon  trailingEps  lastDividendValue  priceToBook  \\\nSymbol  ...                                                                   \nA       ...          810000000        2.597              0.194     7.367352   \nAA      ...         -170000000       -0.914              0.090     1.599169   \nAAA     ...                  0        0.000              0.000     0.000000   \nAAAU    ...                  0        0.000              0.000     0.000000   \nAACG    ...                  0        0.000              6.000     0.000000   \n\n        heldPercentInsiders  shortRatio  enterpriseValue  \\\nSymbol                                                     \nA                   0.00322        1.49      36733571072   \nAA                  0.00547        1.46       8007580672   \nAAA                 0.00000        0.00                0   \nAAAU                0.00000        0.00                0   \nAACG                0.00000        0.02        140465792   \n\n        earningsQuarterlyGrowth  pegRatio  shortPercentOfFloat  \nSymbol                                                          \nA                         0.462      3.00               0.0077  \nAA                        0.000      0.07               0.0620  \nAAA                       0.000      0.00               0.0000  \nAAAU                      0.000      0.00               0.0000  \nAACG                      0.000      0.00               0.0000  \n\n[5 rows x 34 columns]\n"
     ]
    }
   ],
   "source": [
    "df = pd.read_csv('Stock Dataset.csv', index_col='Symbol')\n",
    "print(df.head())"
   ]
  },
  {
   "cell_type": "code",
   "execution_count": null,
   "metadata": {},
   "outputs": [],
   "source": []
  }
 ]
}