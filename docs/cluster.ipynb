{
 "metadata": {
  "language_info": {
   "codemirror_mode": {
    "name": "ipython",
    "version": 3
   },
   "file_extension": ".py",
   "mimetype": "text/x-python",
   "name": "python",
   "nbconvert_exporter": "python",
   "pygments_lexer": "ipython3",
   "version": "3.9.0-final"
  },
  "orig_nbformat": 2,
  "kernelspec": {
   "name": "python3",
   "display_name": "Python 3.9.0 64-bit",
   "metadata": {
    "interpreter": {
     "hash": "d61ed362aa666647e884e856f8a6ce510649070e79e0263068f970fc17431b76"
    }
   }
  }
 },
 "nbformat": 4,
 "nbformat_minor": 2,
 "cells": [
  {
   "source": [
    "# Clustering\n",
    "This notebook is to demonstrate the function of gathering the data from the stock market and creating the clustering algorithm."
   ],
   "cell_type": "markdown",
   "metadata": {}
  },
  {
   "cell_type": "code",
   "execution_count": 16,
   "metadata": {},
   "outputs": [],
   "source": [
    "# Import libraries\n",
    "import yfinance as yf\n",
    "import pandas as pd\n"
   ]
  },
  {
   "cell_type": "code",
   "execution_count": 85,
   "metadata": {},
   "outputs": [],
   "source": [
    "class Clustering():\n",
    "    '''\n",
    "\n",
    "    Class to gather stock dataset and training the model.\n",
    "\n",
    "    methods:\n",
    "    - gather_data\n",
    "\n",
    "    '''\n",
    "\n",
    "    def __init__(self, stock_list):\n",
    "        self.stock_list = stock_list\n",
    "\n",
    "    def gather_data(self):\n",
    "        '''\n",
    "\n",
    "        Gathering and formatting stock data into a dataframe.\n",
    "\n",
    "        return: Pandas DataFrame.\n",
    "\n",
    "        '''\n",
    "        list_columns = [\n",
    "            'fullTimeEmployees',\n",
    "            'trailingAnnualDividendYield',\n",
    "            'payoutRatio',\n",
    "            'averageDailyVolume10Day',\n",
    "            'trailingAnnualDividendRate',\n",
    "            'averageVolume10days',\n",
    "            'dividendRate',\n",
    "            'beta',\n",
    "            'priceHint',\n",
    "            'trailingPE',\n",
    "            'regularMarketVolume',\n",
    "            'marketCap',\n",
    "            'averageVolume',\n",
    "            'priceToSalesTrailing12Months',\n",
    "            'forwardPE',\n",
    "            'fiveYearAvgDividendYield',\n",
    "            'dividendYield',\n",
    "            'enterpriseToRevenue',\n",
    "            'profitMargins',\n",
    "            'enterpriseToEbitda',\n",
    "            'forwardEps',\n",
    "            'bookValue',\n",
    "            'sharesPercentSharesOut',\n",
    "            'heldPercentInstitutions',\n",
    "            'netIncomeToCommon',\n",
    "            'trailingEps',\n",
    "            'lastDividendValue',\n",
    "            'priceToBook',\n",
    "            'heldPercentInsiders',\n",
    "            'shortRatio',\n",
    "            'enterpriseValue',\n",
    "            'earningsQuarterlyGrowth',\n",
    "            'pegRatio',\n",
    "            'shortPercentOfFloat',\n",
    "        ]\n",
    "\n",
    "        df = pd.DataFrame(columns=list_columns)\n",
    "        for symbol in self.stock_list:\n",
    "            ticker = yf.Ticker(symbol)\n",
    "\n",
    "            # Create DataFrame from Company Info\n",
    "            company_info = ticker.info\n",
    "            df_info = pd.DataFrame.from_dict(company_info, orient='index').T\n",
    "\n",
    "            # Remove unnecessary column\n",
    "            df_info = df_info.loc[:, df.columns.intersection(list_columns)]\n",
    "\n",
    "            # Add to the main dataframe\n",
    "            df = df.append(df_info, ignore_index=True)\n",
    "\n",
    "        # Fill NaN value to 0\n",
    "        df = df.fillna(0)\n",
    "\n",
    "        # export = df.to_csv('Stock Dataset.csv', index=False)\n",
    "        # print('[SUCCESS] Stock Dataset has been exported to the local directory.')\n"
   ]
  },
  {
   "cell_type": "code",
   "execution_count": 86,
   "metadata": {},
   "outputs": [],
   "source": [
    "clustering = Clustering(['aapl', 'msft', 'tsla'])"
   ]
  },
  {
   "cell_type": "code",
   "execution_count": 87,
   "metadata": {},
   "outputs": [
    {
     "output_type": "stream",
     "name": "stdout",
     "text": [
      "fullTimeEmployees               False\ntrailingAnnualDividendYield      True\npayoutRatio                     False\naverageDailyVolume10Day         False\ntrailingAnnualDividendRate       True\naverageVolume10days             False\ndividendRate                     True\nbeta                            False\npriceHint                       False\ntrailingPE                      False\nregularMarketVolume             False\nmarketCap                       False\naverageVolume                   False\npriceToSalesTrailing12Months    False\nforwardPE                       False\nfiveYearAvgDividendYield         True\ndividendYield                    True\nenterpriseToRevenue             False\nprofitMargins                   False\nenterpriseToEbitda              False\nforwardEps                      False\nbookValue                       False\nsharesPercentSharesOut          False\nheldPercentInstitutions         False\nnetIncomeToCommon               False\ntrailingEps                     False\nlastDividendValue                True\npriceToBook                     False\nheldPercentInsiders             False\nshortRatio                      False\nenterpriseValue                 False\nearningsQuarterlyGrowth         False\npegRatio                        False\nshortPercentOfFloat             False\ndtype: bool\n"
     ]
    }
   ],
   "source": [
    "clustering.gather_data()"
   ]
  }
 ]
}