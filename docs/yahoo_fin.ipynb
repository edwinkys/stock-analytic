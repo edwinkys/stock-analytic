{
 "metadata": {
  "language_info": {
   "codemirror_mode": {
    "name": "ipython",
    "version": 3
   },
   "file_extension": ".py",
   "mimetype": "text/x-python",
   "name": "python",
   "nbconvert_exporter": "python",
   "pygments_lexer": "ipython3",
   "version": "3.9.0-final"
  },
  "orig_nbformat": 2,
  "kernelspec": {
   "name": "python3",
   "display_name": "Python 3.9.0 64-bit",
   "metadata": {
    "interpreter": {
     "hash": "d61ed362aa666647e884e856f8a6ce510649070e79e0263068f970fc17431b76"
    }
   }
  }
 },
 "nbformat": 4,
 "nbformat_minor": 2,
 "cells": [
  {
   "source": [
    "# Yahoo Finance\n",
    "This notebook is to explore the library yahoo_fin."
   ],
   "cell_type": "markdown",
   "metadata": {}
  },
  {
   "cell_type": "code",
   "execution_count": 13,
   "metadata": {},
   "outputs": [],
   "source": [
    "import pandas as pd\n",
    "import numpy as np\n",
    "import json\n",
    "\n",
    "from yahoo_fin.stock_info import (\n",
    "    tickers_dow,\n",
    "    tickers_nasdaq,\n",
    "    tickers_other\n",
    ")\n"
   ]
  },
  {
   "cell_type": "code",
   "execution_count": 21,
   "metadata": {},
   "outputs": [],
   "source": [
    "list_tickers = tickers_dow() + tickers_nasdaq() + tickers_other()\n",
    "\n",
    "# Remove empty string\n",
    "list_tickers = list(filter(None, list_tickers))\n",
    "\n",
    "# Remove symbols\n",
    "list_tickers = [ticker for ticker in list_tickers if '.' not in ticker and '$' not in ticker]\n",
    "\n",
    "# Clean duplicates\n",
    "list_tickers = np.array(list_tickers)\n",
    "list_tickers = np.unique(list_tickers)\n",
    "\n",
    "# Export as JSON\n",
    "tickers = list_tickers.tolist()\n",
    "json_tickers = json.dumps(tickers)\n",
    "\n",
    "with open('tickers.json', 'w') as f:\n",
    "    f.write(json_tickers)"
   ]
  },
  {
   "cell_type": "code",
   "execution_count": null,
   "metadata": {},
   "outputs": [],
   "source": []
  }
 ]
}